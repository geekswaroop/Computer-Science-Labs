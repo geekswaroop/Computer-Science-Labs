{
  "nbformat": 4,
  "nbformat_minor": 0,
  "metadata": {
    "colab": {
      "name": "NOR-Gates.ipynb",
      "provenance": [],
      "collapsed_sections": [],
      "toc_visible": true
    },
    "kernelspec": {
      "name": "python3",
      "display_name": "Python 3"
    },
    "language_info": {
      "name": "python"
    }
  },
  "cells": [
    {
      "cell_type": "markdown",
      "metadata": {
        "id": "YEBGkIcrZkUn"
      },
      "source": [
        "\n",
        "# Lab 11 - NOR Gate - ANN\n",
        "\n",
        "#### Author: Krishna Swaroop\n",
        "#### 181CO125, NITK Surathkal"
      ]
    },
    {
      "cell_type": "markdown",
      "metadata": {
        "id": "nPERDQ8lZuVL"
      },
      "source": [
        "## 1) Import libraries"
      ]
    },
    {
      "cell_type": "code",
      "metadata": {
        "id": "Y4WiRq2WZxHc"
      },
      "source": [
        "import numpy as np\n",
        "from matplotlib import pyplot as plt\n",
        "import os, sys"
      ],
      "execution_count": 1,
      "outputs": []
    },
    {
      "cell_type": "markdown",
      "metadata": {
        "id": "J5nTn3L4Zp66"
      },
      "source": [
        "## 2) Sigmoid"
      ]
    },
    {
      "cell_type": "code",
      "metadata": {
        "id": "wDVn9n1VZpnG"
      },
      "source": [
        "def sigmoid(x):\n",
        "    return 1 / (1 + np.exp(-x))"
      ],
      "execution_count": 2,
      "outputs": []
    },
    {
      "cell_type": "markdown",
      "metadata": {
        "id": "uu-OjGr1Z4HG"
      },
      "source": [
        "## 3) Weight Initialisation using ```np.rand``` \n",
        "\n"
      ]
    },
    {
      "cell_type": "markdown",
      "metadata": {
        "id": "q-cZSA1taBdk"
      },
      "source": [
        "Initialises random values for weights and biases"
      ]
    },
    {
      "cell_type": "code",
      "metadata": {
        "id": "iUOMeaOTZ4fs"
      },
      "source": [
        "def initializeParameters(inputFeatures, HiddenLayer, outputFeatures):\n",
        "    W1 = np.random.randn(HiddenLayer, inputFeatures)\n",
        "    W2 = np.random.randn(outputFeatures, HiddenLayer)\n",
        "    b1 = np.zeros((HiddenLayer, 1))\n",
        "    b2 = np.zeros((outputFeatures, 1))\n",
        "\n",
        "    parameters = {\"W1\" : W1, \"b1\": b1,\n",
        "                  \"W2\" : W2, \"b2\": b2}\n",
        "    return parameters\n",
        "  "
      ],
      "execution_count": 3,
      "outputs": []
    },
    {
      "cell_type": "markdown",
      "metadata": {
        "id": "0gOuN7GZaJI9"
      },
      "source": [
        "## 4) Forward Propogation"
      ]
    },
    {
      "cell_type": "code",
      "metadata": {
        "id": "HOEBtCadaOVe"
      },
      "source": [
        "def forwardPropagation(X, Y, parameters):\n",
        "    m = X.shape[1]\n",
        "    W1 = parameters[\"W1\"]\n",
        "    W2 = parameters[\"W2\"]\n",
        "    b1 = parameters[\"b1\"]\n",
        "    b2 = parameters[\"b2\"]\n",
        "  \n",
        "    Z1 = np.dot(W1, X) + b1\n",
        "    A1 = sigmoid(Z1)\n",
        "    Z2 = np.dot(W2, A1) + b2\n",
        "    A2 = sigmoid(Z2)\n",
        "  \n",
        "    cache = (Z1, A1, W1, b1, Z2, A2, W2, b2)\n",
        "    logprobs = np.multiply(np.log(A2), Y) + np.multiply(np.log(1 - A2), (1 - Y))\n",
        "    cost = -np.sum(logprobs) / m\n",
        "    return cost, cache, A2"
      ],
      "execution_count": 4,
      "outputs": []
    },
    {
      "cell_type": "markdown",
      "metadata": {
        "id": "lzLXKgvcaUoq"
      },
      "source": [
        "## 5) Backward Propogation"
      ]
    },
    {
      "cell_type": "code",
      "metadata": {
        "id": "OEVY6hV2aXze"
      },
      "source": [
        "def backwardPropagation(X, Y, cache):\n",
        "    m = X.shape[1]\n",
        "    (Z1, A1, W1, b1, Z2, A2, W2, b2) = cache\n",
        "      \n",
        "    dZ2 = A2 - Y\n",
        "    dW2 = np.dot(dZ2, A1.T) / m\n",
        "    db2 = np.sum(dZ2, axis = 1, keepdims = True)\n",
        "      \n",
        "    dA1 = np.dot(W2.T, dZ2)\n",
        "    dZ1 = np.multiply(dA1, A1 * (1- A1))\n",
        "    dW1 = np.dot(dZ1, X.T) / m\n",
        "    db1 = np.sum(dZ1, axis = 1, keepdims = True) / m\n",
        "      \n",
        "    gradients = {\"dZ2\": dZ2, \"dW2\": dW2, \"db2\": db2,\n",
        "                 \"dZ1\": dZ1, \"dW1\": dW1, \"db1\": db1}\n",
        "    return gradients"
      ],
      "execution_count": 5,
      "outputs": []
    },
    {
      "cell_type": "markdown",
      "metadata": {
        "id": "hUWe5RrwaZ6X"
      },
      "source": [
        "## 6) Weight Updation"
      ]
    },
    {
      "cell_type": "code",
      "metadata": {
        "id": "QY3RbJcMacPe"
      },
      "source": [
        "def updateParameters(parameters, gradients, learningRate):\n",
        "    parameters[\"W1\"] = parameters[\"W1\"] - learningRate * gradients[\"dW1\"]\n",
        "    parameters[\"W2\"] = parameters[\"W2\"] - learningRate * gradients[\"dW2\"]\n",
        "    parameters[\"b1\"] = parameters[\"b1\"] - learningRate * gradients[\"db1\"]\n",
        "    parameters[\"b2\"] = parameters[\"b2\"] - learningRate * gradients[\"db2\"]\n",
        "    return parameters"
      ],
      "execution_count": 6,
      "outputs": []
    },
    {
      "cell_type": "markdown",
      "metadata": {
        "id": "X95atT2VaepD"
      },
      "source": [
        "# Training"
      ]
    },
    {
      "cell_type": "markdown",
      "metadata": {
        "id": "mRJN8eCLag8n"
      },
      "source": [
        "Here, we train the neural network for 1000 epochs"
      ]
    },
    {
      "cell_type": "code",
      "metadata": {
        "id": "wkDeY9o0agLP"
      },
      "source": [
        "X = np.array([[0, 0, 1, 1], [0, 1, 0, 1]]) # AND input\n",
        "Y = np.array([[1, 0, 0, 0]]) # AND output\n",
        "\n",
        "HiddenLayerNeurons = 2 \n",
        "inputFeatures = X.shape[0]\n",
        "outputFeatures = Y.shape[0] \n",
        "parameters = initializeParameters(inputFeatures, HiddenLayerNeurons, outputFeatures)\n",
        "epoch = 100000\n",
        "learningRate = 0.01\n",
        "losses = np.zeros((epoch, 1))\n",
        "  \n",
        "for i in range(epoch):\n",
        "    losses[i, 0], cache, A2 = forwardPropagation(X, Y, parameters)\n",
        "    gradients = backwardPropagation(X, Y, cache)\n",
        "    parameters = updateParameters(parameters, gradients, learningRate)"
      ],
      "execution_count": 7,
      "outputs": []
    },
    {
      "cell_type": "markdown",
      "metadata": {
        "id": "RD_wA4euango"
      },
      "source": [
        "# Analysis\n"
      ]
    },
    {
      "cell_type": "code",
      "metadata": {
        "colab": {
          "base_uri": "https://localhost:8080/",
          "height": 279
        },
        "id": "AF6g65P_9-a4",
        "outputId": "dad8b8f1-c216-41c0-c5eb-2901d2e6f83d"
      },
      "source": [
        "plt.figure()\n",
        "plt.plot(losses)\n",
        "plt.xlabel(\"EPOCHS\")\n",
        "plt.ylabel(\"Loss value\")\n",
        "plt.show()"
      ],
      "execution_count": 8,
      "outputs": [
        {
          "output_type": "display_data",
          "data": {
            "image/png": "[encoded data removed]",
            "text/plain": [
              "<Figure size 432x288 with 1 Axes>"
            ]
          },
          "metadata": {
            "tags": [],
            "needs_background": "light"
          }
        }
      ]
    }
  ]
}