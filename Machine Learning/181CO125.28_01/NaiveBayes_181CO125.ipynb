{
  "nbformat": 4,
  "nbformat_minor": 0,
  "metadata": {
    "colab": {
      "name": "NaiveBayes-181CO125.ipynb",
      "provenance": [],
      "collapsed_sections": [],
      "toc_visible": true
    },
    "kernelspec": {
      "name": "python3",
      "display_name": "Python 3"
    }
  },
  "cells": [
    {
      "cell_type": "markdown",
      "metadata": {
        "id": "P5Tdn8kM2E1g"
      },
      "source": [
        "# Lab 3 - Naive Bayes Classifier\n",
        "\n",
        "#### Author: Krishna Swaroop\n",
        "#### 181CO125, NITK Surathkal"
      ]
    },
    {
      "cell_type": "markdown",
      "metadata": {
        "id": "68KcN3hn26cZ"
      },
      "source": [
        "# Introduction"
      ]
    },
    {
      "cell_type": "markdown",
      "metadata": {
        "id": "c2Jlx3aB23t3"
      },
      "source": [
        "Naive Bayes methods are a set of supervised learning algorithms based on applying Bayes’ theorem with the “naive” assumption of conditional independence between every pair of features given the value of the class variable."
      ]
    },
    {
      "cell_type": "markdown",
      "metadata": {
        "id": "sPiOt_kU270m"
      },
      "source": [
        "# Dataset"
      ]
    },
    {
      "cell_type": "markdown",
      "metadata": {
        "id": "024KcU_h287K"
      },
      "source": [
        "The iris dataset is a classic and very easy multi-class classification dataset. The dataset is described below\n"
      ]
    },
    {
      "cell_type": "markdown",
      "metadata": {
        "id": "1KD3oxIs2_fC"
      },
      "source": [
        "\n",
        ">Features | Quantity\n",
        ">--- | ---\n",
        ">Classes | 3\n",
        ">Samples per Class | 50\n",
        ">Samples Total | 150\n",
        ">Dimensionality | 4"
      ]
    },
    {
      "cell_type": "markdown",
      "metadata": {
        "id": "tkbqxiSK3Bgl"
      },
      "source": [
        "The classes are numbered 0/1/2 and the features are real valued attributes"
      ]
    },
    {
      "cell_type": "markdown",
      "metadata": {
        "id": "4sd9MKz73Jso"
      },
      "source": [
        "# Naive Bayes Classifier"
      ]
    },
    {
      "cell_type": "markdown",
      "metadata": {
        "id": "Sv2viPuq3Ly4"
      },
      "source": [
        "## 1) Import Libraries"
      ]
    },
    {
      "cell_type": "code",
      "metadata": {
        "id": "D6AAqOinnzAx"
      },
      "source": [
        "from sklearn.datasets import load_iris\n",
        "from sklearn import tree\n",
        "from sklearn.model_selection import train_test_split\n",
        "from sklearn.metrics import accuracy_score\n",
        "import pandas as pd"
      ],
      "execution_count": null,
      "outputs": []
    },
    {
      "cell_type": "markdown",
      "metadata": {
        "id": "DEvnp-KE3TBl"
      },
      "source": [
        "## 2) Load data"
      ]
    },
    {
      "cell_type": "code",
      "metadata": {
        "id": "zbD1X5Yc3R20"
      },
      "source": [
        "iris = load_iris()\n",
        "X, y = load_iris(return_X_y=True)"
      ],
      "execution_count": null,
      "outputs": []
    },
    {
      "cell_type": "markdown",
      "metadata": {
        "id": "9QRol_SK3uyU"
      },
      "source": [
        "Print first five values of numpy array to verify dataset values"
      ]
    },
    {
      "cell_type": "code",
      "metadata": {
        "colab": {
          "base_uri": "https://localhost:8080/"
        },
        "id": "N0fd94lN3jK0",
        "outputId": "00537786-fc08-4dd0-863a-69e5ceedd726"
      },
      "source": [
        "print(\"Features of first five values are: \")\n",
        "print(X[0:5])\n",
        "print(\"Classes of first five values are: \", y[0:5])"
      ],
      "execution_count": null,
      "outputs": [
        {
          "output_type": "stream",
          "text": [
            "Features of first five values are: \n",
            "[[5.1 3.5 1.4 0.2]\n",
            " [4.9 3.  1.4 0.2]\n",
            " [4.7 3.2 1.3 0.2]\n",
            " [4.6 3.1 1.5 0.2]\n",
            " [5.  3.6 1.4 0.2]]\n",
            "Classes of first five values are:  [0 0 0 0 0]\n"
          ],
          "name": "stdout"
        }
      ]
    },
    {
      "cell_type": "markdown",
      "metadata": {
        "id": "32jvVwLV30TA"
      },
      "source": [
        "## 3) Split data"
      ]
    },
    {
      "cell_type": "markdown",
      "metadata": {
        "id": "2gI8U2cV39Lj"
      },
      "source": [
        "Use ```train_test_split()``` to split the X and y to training and testing dataset. Here, 20% of the dataset is reserved to test our algorithm\n"
      ]
    },
    {
      "cell_type": "code",
      "metadata": {
        "id": "GZt7SjyJ3x3O"
      },
      "source": [
        "X_train, X_test, y_train, y_test = train_test_split(X, y, test_size = 0.20, random_state = 82)"
      ],
      "execution_count": null,
      "outputs": []
    },
    {
      "cell_type": "markdown",
      "metadata": {
        "id": "OK8DQcCU4Jcp"
      },
      "source": [
        "## 4) Scale data proportionately"
      ]
    },
    {
      "cell_type": "code",
      "metadata": {
        "id": "blL4In-E4ECh"
      },
      "source": [
        "from sklearn.preprocessing import StandardScaler\n",
        "sc = StandardScaler()\n",
        "X_train = sc.fit_transform(X_train)\n",
        "X_test = sc.transform(X_test)\n"
      ],
      "execution_count": null,
      "outputs": []
    },
    {
      "cell_type": "markdown",
      "metadata": {
        "id": "Uen6gEoi4O8G"
      },
      "source": [
        "## 5) Fit model"
      ]
    },
    {
      "cell_type": "code",
      "metadata": {
        "colab": {
          "base_uri": "https://localhost:8080/"
        },
        "id": "qiMrHJS_4F86",
        "outputId": "615230b2-4030-4532-ceee-73324ab65557"
      },
      "source": [
        "from sklearn.naive_bayes import GaussianNB\n",
        "nvclassifier = GaussianNB()\n",
        "nvclassifier.fit(X_train, y_train)"
      ],
      "execution_count": null,
      "outputs": [
        {
          "output_type": "execute_result",
          "data": {
            "text/plain": [
              "GaussianNB(priors=None, var_smoothing=1e-09)"
            ]
          },
          "metadata": {
            "tags": []
          },
          "execution_count": 8
        }
      ]
    },
    {
      "cell_type": "markdown",
      "metadata": {
        "id": "NjCQuZqC4XQV"
      },
      "source": [
        "## 6) Predict"
      ]
    },
    {
      "cell_type": "code",
      "metadata": {
        "colab": {
          "base_uri": "https://localhost:8080/"
        },
        "id": "9GD0jm2Q4UBB",
        "outputId": "bf4b069e-b2cf-4d2e-b8c8-ae72208b10ca"
      },
      "source": [
        "y_pred = nvclassifier.predict(X_test)\n",
        "print(y_pred)"
      ],
      "execution_count": null,
      "outputs": [
        {
          "output_type": "stream",
          "text": [
            "[2 2 0 0 0 2 1 1 1 1 1 2 0 0 0 0 2 1 0 1 0 2 0 2 2 1 2 0 2 1]\n"
          ],
          "name": "stdout"
        }
      ]
    },
    {
      "cell_type": "markdown",
      "metadata": {
        "id": "bfUoVyuu4keu"
      },
      "source": [
        "## 7) Calculate Accuracy"
      ]
    },
    {
      "cell_type": "code",
      "metadata": {
        "colab": {
          "base_uri": "https://localhost:8080/"
        },
        "id": "PadlxY2i4a4L",
        "outputId": "5fd2247f-16d1-4ace-e309-8d928c7b56a2"
      },
      "source": [
        "print(\"Accuracy score of Naive Bayes Model: \",  nvclassifier.score(X_test, y_test))\n"
      ],
      "execution_count": null,
      "outputs": [
        {
          "output_type": "stream",
          "text": [
            "Accuracy score of Naive Bayes Model:  0.9333333333333333\n"
          ],
          "name": "stdout"
        }
      ]
    },
    {
      "cell_type": "markdown",
      "metadata": {
        "id": "E7JOvIug4vKm"
      },
      "source": [
        "Therefore, we can see that Naive Bayes gives an accuracy score of 93.33% "
      ]
    },
    {
      "cell_type": "code",
      "metadata": {
        "id": "kKL9W-8A4ecU"
      },
      "source": [
        ""
      ],
      "execution_count": null,
      "outputs": []
    }
  ]
}