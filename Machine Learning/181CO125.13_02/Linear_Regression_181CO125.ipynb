{
  "nbformat": 4,
  "nbformat_minor": 0,
  "metadata": {
    "colab": {
      "name": "Linear-Regression-181CO125.ipynb",
      "provenance": [],
      "collapsed_sections": [],
      "toc_visible": true
    },
    "kernelspec": {
      "name": "python3",
      "display_name": "Python 3"
    }
  },
  "cells": [
    {
      "cell_type": "markdown",
      "metadata": {
        "id": "xiS0zPY94IMH"
      },
      "source": [
        "# Lab 5 - Linear Regression     Diabetes Dataset\n",
        "\n",
        "#### Author: Krishna Swaroop\n",
        "#### 181CO125, NITK Surathkal\n"
      ]
    },
    {
      "cell_type": "markdown",
      "metadata": {
        "id": "yj70Jidx4TRh"
      },
      "source": [
        "# Introduction"
      ]
    },
    {
      "cell_type": "markdown",
      "metadata": {
        "id": "CviC3lBx4lRJ"
      },
      "source": [
        "Linear Regression is a machine learning algorithm based on supervised learning. Regression models a target prediction value based on independent variables. It is mostly used for finding out the relationship between variables and forecasting. \n",
        "\n",
        "Different regression models differ based on – the kind of relationship between dependent and independent variables, they are considering and the number of independent variables being used."
      ]
    },
    {
      "cell_type": "markdown",
      "metadata": {
        "id": "szduTMyc4vq0"
      },
      "source": [
        "# Dataset"
      ]
    },
    {
      "cell_type": "markdown",
      "metadata": {
        "id": "2JL860xl4w9v"
      },
      "source": [
        "We are using the [Diabetes](https://scikit-learn.org/stable/modules/generated/sklearn.datasets.load_diabetes.html) dataset. This dataset has ten baseline variables, age, sex, body mass index, average blood pressure, and six blood serum measurements were obtained for each of n = 442 diabetes patients, as well as the response of interest, a quantitative measure of disease progression one year after baseline.\n",
        "\n"
      ]
    },
    {
      "cell_type": "markdown",
      "metadata": {
        "id": "OgEluDuO4_4e"
      },
      "source": [
        "There are a total of **10 columns** in this dataset, providing us a rich set of features to model our problems."
      ]
    },
    {
      "cell_type": "markdown",
      "metadata": {
        "id": "E6zy4RYV68Ko"
      },
      "source": [
        "**Attributes:**\n",
        "\n",
        "\n",
        "\n",
        "1.   age age in years\n",
        "2.   sex\n",
        "3.   bmi body mass index\n",
        "4.   bp average blood pressure\n",
        "5.   s1 tc, T-Cells (a type of white blood cells)\n",
        "6.   s2 ldl, low-density lipoproteins\n",
        "7.   s3 hdl, high-density lipoproteins\n",
        "8.   s4 tch, thyroid stimulating hormone\n",
        "9.   s5 ltg, lamotrigine\n",
        "10.  s6 glu, blood sugar level\n",
        "\n",
        "\n",
        "\n",
        "\n",
        "\n",
        "\n",
        "\n"
      ]
    },
    {
      "cell_type": "markdown",
      "metadata": {
        "id": "vtoC7L8Y5Ui-"
      },
      "source": [
        "# Linear Regression"
      ]
    },
    {
      "cell_type": "markdown",
      "metadata": {
        "id": "768wdJXl5WWt"
      },
      "source": [
        "##1) Import libraries"
      ]
    },
    {
      "cell_type": "code",
      "metadata": {
        "id": "enRw_zMO3jlA"
      },
      "source": [
        "import numpy as np \n",
        "import pandas as pd \n",
        "import seaborn as sns \n",
        "import matplotlib.pyplot as plt \n",
        "from sklearn import preprocessing, svm \n",
        "from sklearn.model_selection import train_test_split \n",
        "from sklearn.linear_model import LinearRegression\n",
        "from sklearn import datasets"
      ],
      "execution_count": null,
      "outputs": []
    },
    {
      "cell_type": "markdown",
      "metadata": {
        "id": "vaBpSEoS5oHB"
      },
      "source": [
        "## 2) Load dataset"
      ]
    },
    {
      "cell_type": "code",
      "metadata": {
        "id": "FvEswLft5a1N"
      },
      "source": [
        "diabetes = datasets.load_diabetes() # load data\n"
      ],
      "execution_count": null,
      "outputs": []
    },
    {
      "cell_type": "markdown",
      "metadata": {
        "id": "ian1OKO27uiB"
      },
      "source": [
        "Explore data"
      ]
    },
    {
      "cell_type": "code",
      "metadata": {
        "colab": {
          "base_uri": "https://localhost:8080/"
        },
        "id": "rQZk1tGk5y08",
        "outputId": "bb46c86f-b5f8-4b1b-c583-c67575fa77e2"
      },
      "source": [
        "print(f\"Shape of the dataset is: {diabetes.data.shape}\")\n",
        "print(f\"Shape of the target varialbe is: {diabetes.target.shape}\")\n",
        "print(f\"Features of the diabetes dataset is: {diabetes.feature_names}\")"
      ],
      "execution_count": null,
      "outputs": [
        {
          "output_type": "stream",
          "text": [
            "Shape of the dataset is: (442, 10)\n",
            "Shape of the target varialbe is: (442,)\n",
            "Features of the diabetes dataset is: ['age', 'sex', 'bmi', 'bp', 's1', 's2', 's3', 's4', 's5', 's6']\n"
          ],
          "name": "stdout"
        }
      ]
    },
    {
      "cell_type": "markdown",
      "metadata": {
        "id": "TDU6p4s08KNA"
      },
      "source": [
        "## 3) Split data"
      ]
    },
    {
      "cell_type": "markdown",
      "metadata": {
        "id": "Y7gbA8oF8ThL"
      },
      "source": [
        "Use ```train_test_split()``` to split the data to training and testing dataset. Here, 20% of the dataset is reserved to test our algorithm"
      ]
    },
    {
      "cell_type": "code",
      "metadata": {
        "id": "2mrIFStq70N-"
      },
      "source": [
        "X_train, X_test, y_train, y_test = train_test_split(diabetes.data, diabetes.target, test_size=0.2, random_state=10)"
      ],
      "execution_count": null,
      "outputs": []
    },
    {
      "cell_type": "markdown",
      "metadata": {
        "id": "nqcSqkna8Xgm"
      },
      "source": [
        "## 4) Fit model"
      ]
    },
    {
      "cell_type": "code",
      "metadata": {
        "colab": {
          "base_uri": "https://localhost:8080/"
        },
        "id": "KIvpLTqH8PtF",
        "outputId": "ebf9f5ff-29fd-4be1-81aa-b8214ab915c5"
      },
      "source": [
        "model = LinearRegression()\n",
        "model.fit(X_train, y_train)"
      ],
      "execution_count": null,
      "outputs": [
        {
          "output_type": "execute_result",
          "data": {
            "text/plain": [
              "LinearRegression(copy_X=True, fit_intercept=True, n_jobs=None, normalize=False)"
            ]
          },
          "metadata": {
            "tags": []
          },
          "execution_count": 13
        }
      ]
    },
    {
      "cell_type": "markdown",
      "metadata": {
        "id": "VNC0B8j58mKq"
      },
      "source": [
        "## 5) Predict"
      ]
    },
    {
      "cell_type": "markdown",
      "metadata": {
        "id": "yC7d0sqz8os7"
      },
      "source": [
        "The model coefficients are"
      ]
    },
    {
      "cell_type": "code",
      "metadata": {
        "colab": {
          "base_uri": "https://localhost:8080/"
        },
        "id": "pA5vfq8-8duu",
        "outputId": "42e16f22-e523-4564-a843-bc0a321e9e56"
      },
      "source": [
        "print(model.coef_)"
      ],
      "execution_count": null,
      "outputs": [
        {
          "output_type": "stream",
          "text": [
            "[  -3.89155188 -225.62880027  517.89525355  328.32132183 -727.23345563\n",
            "  410.96799392   80.26601137  218.18738355  704.2805541    40.02247238]\n"
          ],
          "name": "stdout"
        }
      ]
    },
    {
      "cell_type": "markdown",
      "metadata": {
        "id": "ZVNsTFWo8ufl"
      },
      "source": [
        "The model intercept is"
      ]
    },
    {
      "cell_type": "code",
      "metadata": {
        "colab": {
          "base_uri": "https://localhost:8080/"
        },
        "id": "dGhcK2818tcr",
        "outputId": "e1ee98fb-0ed7-4ba6-b100-855e93533107"
      },
      "source": [
        "print(model.intercept_)"
      ],
      "execution_count": null,
      "outputs": [
        {
          "output_type": "stream",
          "text": [
            "152.2555053490769\n"
          ],
          "name": "stdout"
        }
      ]
    },
    {
      "cell_type": "code",
      "metadata": {
        "colab": {
          "base_uri": "https://localhost:8080/"
        },
        "id": "nY-eJGVV8xfe",
        "outputId": "4ab2d1e1-2c34-4c47-a58c-c9ce9ddbbfcc"
      },
      "source": [
        "model.predict(X_test)\n",
        "print(f\"Model performance is: {model.score(X_test, y_test)}\")"
      ],
      "execution_count": null,
      "outputs": [
        {
          "output_type": "stream",
          "text": [
            "Model performance is: 0.5341962544929233\n"
          ],
          "name": "stdout"
        }
      ]
    },
    {
      "cell_type": "markdown",
      "metadata": {
        "id": "3sA7yos69Kxk"
      },
      "source": [
        "## 6) Analysis"
      ]
    },
    {
      "cell_type": "markdown",
      "metadata": {
        "id": "WOcNVUrD9MrS"
      },
      "source": [
        "Let us see why the model performance is low by plotting the fitting line"
      ]
    },
    {
      "cell_type": "code",
      "metadata": {
        "id": "rm4GLB8s8-jH",
        "colab": {
          "base_uri": "https://localhost:8080/",
          "height": 265
        },
        "outputId": "b43ccbea-ae09-47cc-b5f9-f5fc9186284a"
      },
      "source": [
        "y_pred = model.predict(X_test) \n",
        "plt.plot(y_test, y_pred, '.')\n",
        "\n",
        "# plot a line, a perfit predict would all fall on this line\n",
        "x = np.linspace(0, 330, 100)\n",
        "y = x\n",
        "plt.plot(x, y)\n",
        "plt.show()"
      ],
      "execution_count": null,
      "outputs": [
        {
          "output_type": "display_data",
          "data": {
            "image/png": "[encoded data removed]",
            "text/plain": [
              "<Figure size 432x288 with 1 Axes>"
            ]
          },
          "metadata": {
            "tags": [],
            "needs_background": "light"
          }
        }
      ]
    },
    {
      "cell_type": "markdown",
      "metadata": {
        "id": "om5N0Atfyk6D"
      },
      "source": [
        "Here, the x-axis represents the original test values wheras teh y-axis represents the prediction values.\n",
        "\n",
        "A perfect prediction would fall on the line x-y. As you can see, there are quite a lot of points not on the line y = x giving us a low accuracy of 53%"
      ]
    },
    {
      "cell_type": "code",
      "metadata": {
        "id": "P0Q0N4lFy6cs"
      },
      "source": [
        ""
      ],
      "execution_count": null,
      "outputs": []
    }
  ]
}