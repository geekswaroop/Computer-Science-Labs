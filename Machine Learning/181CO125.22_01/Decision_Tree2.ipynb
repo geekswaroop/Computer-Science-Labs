{
  "nbformat": 4,
  "nbformat_minor": 0,
  "metadata": {
    "colab": {
      "name": "Decision-Tree2.ipynb",
      "provenance": [],
      "toc_visible": true
    },
    "kernelspec": {
      "name": "python3",
      "display_name": "Python 3"
    }
  },
  "cells": [
    {
      "cell_type": "markdown",
      "metadata": {
        "id": "cFFN_2LQZZ6l"
      },
      "source": [
        "# Decision Tree algorithms on Heart Disease UCI dataset along with Analysis of Pruning\n",
        "\n",
        "**Author: K Krishna Swaroop \n",
        "181CO125, NITK Surathkal** \n"
      ]
    },
    {
      "cell_type": "markdown",
      "metadata": {
        "id": "Fhb9XxaPZkiL"
      },
      "source": [
        "# Dataset\n",
        "This Heart Disease UCI dataset contains 14 attributes, (13 features and 1 target attribute) they are\n",
        "- age \n",
        "- sex \n",
        "- chest pain type (4 values) \n",
        "- resting blood pressure \n",
        "- serum cholestoral in mg/dl \n",
        "- fasting blood sugar > 120 mg/dl\n",
        "- resting electrocardiographic results (values 0,1,2)\n",
        "- maximum heart rate achieved \n",
        "- exercise induced angina \n",
        "- oldpeak = ST depression induced by exercise relative to   rest \n",
        "- the slope of the peak exercise ST segment \n",
        "- number of major vessels (0-3) colored by flourosopy \n",
        "- thal: 3 = normal; 6 = fixed defect; 7 = reversable defect\n",
        "\n",
        "The goal is to predict whether or not the patient has heart disease (0- no heart disease, 1- possibility of heart disease)"
      ]
    },
    {
      "cell_type": "markdown",
      "metadata": {
        "id": "Og9MDCasavbt"
      },
      "source": [
        "## Dataset Exploration"
      ]
    },
    {
      "cell_type": "markdown",
      "metadata": {
        "id": "FazCblxRa1VE"
      },
      "source": [
        "### 1) Import Libraries "
      ]
    },
    {
      "cell_type": "code",
      "metadata": {
        "id": "m4SRv4woY0gV"
      },
      "source": [
        "import numpy as np\n",
        "import pandas as pd\n",
        "import os\n",
        "from sklearn.preprocessing import LabelEncoder\n",
        "from sklearn.model_selection import train_test_split\n",
        "from sklearn.model_selection import RandomizedSearchCV, GridSearchCV\n",
        "from sklearn import tree\n",
        "from sklearn.metrics import accuracy_score,confusion_matrix\n",
        "import seaborn as sns\n",
        "import matplotlib.pyplot as plt"
      ],
      "execution_count": 1,
      "outputs": []
    },
    {
      "cell_type": "markdown",
      "metadata": {
        "id": "fgxUMvlTbAhV"
      },
      "source": [
        "### 2) Import Data"
      ]
    },
    {
      "cell_type": "code",
      "metadata": {
        "colab": {
          "base_uri": "https://localhost:8080/",
          "height": 204
        },
        "id": "u58rTBbea0UA",
        "outputId": "4ddb2905-58cc-499e-b21c-095ce9230926"
      },
      "source": [
        "data_path = '/content/drive/MyDrive/Colab Notebooks/ML-Lab/Decision-Trees/heart.csv'\n",
        "df = pd.read_csv(data_path)\n",
        "df.head()"
      ],
      "execution_count": 2,
      "outputs": [
        {
          "output_type": "execute_result",
          "data": {
            "text/html": [
              "<div>\n",
              "<style scoped>\n",
              "    .dataframe tbody tr th:only-of-type {\n",
              "        vertical-align: middle;\n",
              "    }\n",
              "\n",
              "    .dataframe tbody tr th {\n",
              "        vertical-align: top;\n",
              "    }\n",
              "\n",
              "    .dataframe thead th {\n",
              "        text-align: right;\n",
              "    }\n",
              "</style>\n",
              "<table border=\"1\" class=\"dataframe\">\n",
              "  <thead>\n",
              "    <tr style=\"text-align: right;\">\n",
              "      <th></th>\n",
              "      <th>age</th>\n",
              "      <th>sex</th>\n",
              "      <th>cp</th>\n",
              "      <th>trestbps</th>\n",
              "      <th>chol</th>\n",
              "      <th>fbs</th>\n",
              "      <th>restecg</th>\n",
              "      <th>thalach</th>\n",
              "      <th>exang</th>\n",
              "      <th>oldpeak</th>\n",
              "      <th>slope</th>\n",
              "      <th>ca</th>\n",
              "      <th>thal</th>\n",
              "      <th>target</th>\n",
              "    </tr>\n",
              "  </thead>\n",
              "  <tbody>\n",
              "    <tr>\n",
              "      <th>0</th>\n",
              "      <td>63</td>\n",
              "      <td>1</td>\n",
              "      <td>3</td>\n",
              "      <td>145</td>\n",
              "      <td>233</td>\n",
              "      <td>1</td>\n",
              "      <td>0</td>\n",
              "      <td>150</td>\n",
              "      <td>0</td>\n",
              "      <td>2.3</td>\n",
              "      <td>0</td>\n",
              "      <td>0</td>\n",
              "      <td>1</td>\n",
              "      <td>1</td>\n",
              "    </tr>\n",
              "    <tr>\n",
              "      <th>1</th>\n",
              "      <td>37</td>\n",
              "      <td>1</td>\n",
              "      <td>2</td>\n",
              "      <td>130</td>\n",
              "      <td>250</td>\n",
              "      <td>0</td>\n",
              "      <td>1</td>\n",
              "      <td>187</td>\n",
              "      <td>0</td>\n",
              "      <td>3.5</td>\n",
              "      <td>0</td>\n",
              "      <td>0</td>\n",
              "      <td>2</td>\n",
              "      <td>1</td>\n",
              "    </tr>\n",
              "    <tr>\n",
              "      <th>2</th>\n",
              "      <td>41</td>\n",
              "      <td>0</td>\n",
              "      <td>1</td>\n",
              "      <td>130</td>\n",
              "      <td>204</td>\n",
              "      <td>0</td>\n",
              "      <td>0</td>\n",
              "      <td>172</td>\n",
              "      <td>0</td>\n",
              "      <td>1.4</td>\n",
              "      <td>2</td>\n",
              "      <td>0</td>\n",
              "      <td>2</td>\n",
              "      <td>1</td>\n",
              "    </tr>\n",
              "    <tr>\n",
              "      <th>3</th>\n",
              "      <td>56</td>\n",
              "      <td>1</td>\n",
              "      <td>1</td>\n",
              "      <td>120</td>\n",
              "      <td>236</td>\n",
              "      <td>0</td>\n",
              "      <td>1</td>\n",
              "      <td>178</td>\n",
              "      <td>0</td>\n",
              "      <td>0.8</td>\n",
              "      <td>2</td>\n",
              "      <td>0</td>\n",
              "      <td>2</td>\n",
              "      <td>1</td>\n",
              "    </tr>\n",
              "    <tr>\n",
              "      <th>4</th>\n",
              "      <td>57</td>\n",
              "      <td>0</td>\n",
              "      <td>0</td>\n",
              "      <td>120</td>\n",
              "      <td>354</td>\n",
              "      <td>0</td>\n",
              "      <td>1</td>\n",
              "      <td>163</td>\n",
              "      <td>1</td>\n",
              "      <td>0.6</td>\n",
              "      <td>2</td>\n",
              "      <td>0</td>\n",
              "      <td>2</td>\n",
              "      <td>1</td>\n",
              "    </tr>\n",
              "  </tbody>\n",
              "</table>\n",
              "</div>"
            ],
            "text/plain": [
              "   age  sex  cp  trestbps  chol  fbs  ...  exang  oldpeak  slope  ca  thal  target\n",
              "0   63    1   3       145   233    1  ...      0      2.3      0   0     1       1\n",
              "1   37    1   2       130   250    0  ...      0      3.5      0   0     2       1\n",
              "2   41    0   1       130   204    0  ...      0      1.4      2   0     2       1\n",
              "3   56    1   1       120   236    0  ...      0      0.8      2   0     2       1\n",
              "4   57    0   0       120   354    0  ...      1      0.6      2   0     2       1\n",
              "\n",
              "[5 rows x 14 columns]"
            ]
          },
          "metadata": {
            "tags": []
          },
          "execution_count": 2
        }
      ]
    },
    {
      "cell_type": "code",
      "metadata": {
        "colab": {
          "base_uri": "https://localhost:8080/"
        },
        "id": "bt__NZhVbHTu",
        "outputId": "370dcd19-1934-4c03-8987-0e026be805ae"
      },
      "source": [
        "X = df.drop(columns = ['target'])\n",
        "y = df['target']\n",
        "tmp = df.columns.tolist()\n",
        "feature_names = tmp[:-1]\n",
        "class_names = ['Not heart disease','heart disease']\n",
        "print(feature_names)\n",
        "print(class_names)\n"
      ],
      "execution_count": 3,
      "outputs": [
        {
          "output_type": "stream",
          "text": [
            "['age', 'sex', 'cp', 'trestbps', 'chol', 'fbs', 'restecg', 'thalach', 'exang', 'oldpeak', 'slope', 'ca', 'thal']\n",
            "['Not heart disease', 'heart disease']\n"
          ],
          "name": "stdout"
        }
      ]
    },
    {
      "cell_type": "markdown",
      "metadata": {
        "id": "LUc7-d4JbmtE"
      },
      "source": [
        "### 3) Split data"
      ]
    },
    {
      "cell_type": "code",
      "metadata": {
        "colab": {
          "base_uri": "https://localhost:8080/"
        },
        "id": "PoaHEE1abeqx",
        "outputId": "27ca2553-1cfd-45ea-87d8-77630c8614b3"
      },
      "source": [
        "x_train,x_test,y_train,y_test = train_test_split(X,y,stratify=y)\n",
        "print(\"Training set shape: \", x_train.shape)\n",
        "print(\"Testing set shape: \", x_test.shape)"
      ],
      "execution_count": 4,
      "outputs": [
        {
          "output_type": "stream",
          "text": [
            "Training set shape:  (227, 13)\n",
            "Testing set shape:  (76, 13)\n"
          ],
          "name": "stdout"
        }
      ]
    },
    {
      "cell_type": "markdown",
      "metadata": {
        "id": "syTAxM28b2Ys"
      },
      "source": [
        "Now, we will fit the three decision tree algorithms, without pruning and compare results with pruning"
      ]
    },
    {
      "cell_type": "markdown",
      "metadata": {
        "id": "dge8XGn0b8k2"
      },
      "source": [
        "# Gini "
      ]
    },
    {
      "cell_type": "markdown",
      "metadata": {
        "id": "2BVOMz0HcU4G"
      },
      "source": [
        "## 1) Install required libraries"
      ]
    },
    {
      "cell_type": "code",
      "metadata": {
        "colab": {
          "base_uri": "https://localhost:8080/"
        },
        "id": "paVKBQ69byef",
        "outputId": "701e6859-d7eb-4d0d-c03a-54f34311a4b2"
      },
      "source": [
        "!pip install graphviz\n",
        "import graphviz"
      ],
      "execution_count": 5,
      "outputs": [
        {
          "output_type": "stream",
          "text": [
            "Requirement already satisfied: graphviz in /usr/local/lib/python3.6/dist-packages (0.10.1)\n"
          ],
          "name": "stdout"
        }
      ]
    },
    {
      "cell_type": "markdown",
      "metadata": {
        "id": "M3EJL6iEcgJy"
      },
      "source": [
        "## 2) Fit the model"
      ]
    },
    {
      "cell_type": "code",
      "metadata": {
        "id": "bDlMCWxycdVG"
      },
      "source": [
        "clf = tree.DecisionTreeClassifier(criterion='gini', random_state = 10)\n",
        "clf = clf.fit(x_train, y_train)"
      ],
      "execution_count": 6,
      "outputs": []
    },
    {
      "cell_type": "code",
      "metadata": {
        "colab": {
          "base_uri": "https://localhost:8080/",
          "height": 37
        },
        "id": "jFIzBccHcn2J",
        "outputId": "187dd8ee-08af-4011-cf56-f44d20dc17d5"
      },
      "source": [
        "dot_data = tree.export_graphviz(clf, out_file=None, \n",
        "                      feature_names=feature_names,  \n",
        "                      class_names=class_names,  \n",
        "                      filled=True, rounded=True,  \n",
        "                      special_characters=True)\n",
        "graph = graphviz.Source(dot_data)\n",
        "graph\n",
        "graph.render(\"CART_without_pruning\")"
      ],
      "execution_count": 7,
      "outputs": [
        {
          "output_type": "execute_result",
          "data": {
            "application/vnd.google.colaboratory.intrinsic+json": {
              "type": "string"
            },
            "text/plain": [
              "'CART_without_pruning.pdf'"
            ]
          },
          "metadata": {
            "tags": []
          },
          "execution_count": 7
        }
      ]
    },
    {
      "cell_type": "markdown",
      "metadata": {
        "id": "QXMY0qaViH-H"
      },
      "source": [
        "## 3) Accuracy "
      ]
    },
    {
      "cell_type": "code",
      "metadata": {
        "colab": {
          "base_uri": "https://localhost:8080/"
        },
        "id": "3bvLLc_1cuAv",
        "outputId": "93731f21-4826-46b4-a969-7488c289be72"
      },
      "source": [
        "y_train_pred = clf.predict(x_train)\n",
        "y_test_pred = clf.predict(x_test)\n",
        "print(f'Train score {accuracy_score(y_train_pred,y_train)}')\n",
        "print(f'Test score {accuracy_score(y_test_pred,y_test)}')"
      ],
      "execution_count": 8,
      "outputs": [
        {
          "output_type": "stream",
          "text": [
            "Train score 1.0\n",
            "Test score 0.8026315789473685\n"
          ],
          "name": "stdout"
        }
      ]
    },
    {
      "cell_type": "markdown",
      "metadata": {
        "id": "G5XQedIKiZzN"
      },
      "source": [
        "We have achieved a score of **77.6%** on the testing dataset without pruning\n",
        "\n",
        "\n"
      ]
    },
    {
      "cell_type": "markdown",
      "metadata": {
        "id": "LtkWKtVuii5L"
      },
      "source": [
        "# C4.5"
      ]
    },
    {
      "cell_type": "markdown",
      "metadata": {
        "id": "5DQXYgTEilX6"
      },
      "source": [
        "## 1) Install required libraries"
      ]
    },
    {
      "cell_type": "code",
      "metadata": {
        "colab": {
          "base_uri": "https://localhost:8080/"
        },
        "id": "D73wW2L4iQ1X",
        "outputId": "8f7319d7-ac52-487f-a67c-3ddbf5391644"
      },
      "source": [
        "!pip install chefboost"
      ],
      "execution_count": 9,
      "outputs": [
        {
          "output_type": "stream",
          "text": [
            "Requirement already satisfied: chefboost in /usr/local/lib/python3.6/dist-packages (0.0.10)\n",
            "Requirement already satisfied: pandas>=0.22.0 in /usr/local/lib/python3.6/dist-packages (from chefboost) (1.1.5)\n",
            "Requirement already satisfied: numpy>=1.14.0 in /usr/local/lib/python3.6/dist-packages (from chefboost) (1.19.5)\n",
            "Requirement already satisfied: tqdm>=4.30.0 in /usr/local/lib/python3.6/dist-packages (from chefboost) (4.41.1)\n",
            "Requirement already satisfied: python-dateutil>=2.7.3 in /usr/local/lib/python3.6/dist-packages (from pandas>=0.22.0->chefboost) (2.8.1)\n",
            "Requirement already satisfied: pytz>=2017.2 in /usr/local/lib/python3.6/dist-packages (from pandas>=0.22.0->chefboost) (2018.9)\n",
            "Requirement already satisfied: six>=1.5 in /usr/local/lib/python3.6/dist-packages (from python-dateutil>=2.7.3->pandas>=0.22.0->chefboost) (1.15.0)\n"
          ],
          "name": "stdout"
        }
      ]
    },
    {
      "cell_type": "markdown",
      "metadata": {
        "id": "c6L1thzLkb1X"
      },
      "source": [
        "## 2) Fit model"
      ]
    },
    {
      "cell_type": "code",
      "metadata": {
        "id": "-u2w4wiDi74B"
      },
      "source": [
        "from chefboost import Chefboost as chef\n",
        "config = {'algorithm': 'C4.5'}\n"
      ],
      "execution_count": 10,
      "outputs": []
    },
    {
      "cell_type": "code",
      "metadata": {
        "colab": {
          "base_uri": "https://localhost:8080/"
        },
        "id": "waKqDDg2jGFC",
        "outputId": "bc2482b6-cb31-452b-8c13-56a0658bcd95"
      },
      "source": [
        "df['Decision'] = pd.Series(df.target)\n",
        "df['Decision'] = df['Decision'].replace({0:\"Does not have heart disease\" , 1: \"Has Heart Disease\"});\n",
        "print(df['Decision'].dtypes)\n",
        "train=df.sample(frac=0.75,random_state=10) #random state is a seed value\n",
        "test=df.drop(train.index)"
      ],
      "execution_count": 11,
      "outputs": [
        {
          "output_type": "stream",
          "text": [
            "object\n"
          ],
          "name": "stdout"
        }
      ]
    },
    {
      "cell_type": "code",
      "metadata": {
        "colab": {
          "base_uri": "https://localhost:8080/"
        },
        "id": "1Bf_VNXpjSlL",
        "outputId": "2afe6022-d404-40a4-f517-89305230ec21"
      },
      "source": [
        "model = chef.fit(train, config ,test)"
      ],
      "execution_count": 12,
      "outputs": [
        {
          "output_type": "stream",
          "text": [
            "C4.5  tree is going to be built...\n",
            "-------------------------\n",
            "finished in  0.40393543243408203  seconds\n",
            "-------------------------\n",
            "Evaluate  train set\n",
            "-------------------------\n",
            "Accuracy:  100.0 % on  227  instances\n",
            "Labels:  ['Does not have heart disease' 'Has Heart Disease']\n",
            "Confusion matrix:  [[108, 0], [0, 119]]\n",
            "Precision:  100.0 %, Recall:  100.0 %, F1:  100.0 %\n",
            "-------------------------\n",
            "Evaluate  validation set\n",
            "-------------------------\n",
            "Accuracy:  100.0 % on  76  instances\n",
            "Labels:  ['Has Heart Disease' 'Does not have heart disease']\n",
            "Confusion matrix:  [[46, 0], [0, 30]]\n",
            "Precision:  100.0 %, Recall:  100.0 %, F1:  100.0 %\n"
          ],
          "name": "stdout"
        }
      ]
    },
    {
      "cell_type": "markdown",
      "metadata": {
        "id": "_mh7oDWTkZ-S"
      },
      "source": [
        "## 3) Analysis"
      ]
    },
    {
      "cell_type": "markdown",
      "metadata": {
        "id": "zYcQCIVtketD"
      },
      "source": [
        "C4.5 gives 100% accuracy on the test dataset without pruning"
      ]
    },
    {
      "cell_type": "markdown",
      "metadata": {
        "id": "FWuR7VrUk4iJ"
      },
      "source": [
        "# ID3"
      ]
    },
    {
      "cell_type": "markdown",
      "metadata": {
        "id": "ANsl08MWk-Xy"
      },
      "source": [
        "## 1) Fit the model"
      ]
    },
    {
      "cell_type": "code",
      "metadata": {
        "id": "6AeRWBtajcuv"
      },
      "source": [
        "id3 = tree.DecisionTreeClassifier(criterion='entropy', random_state=10)\n",
        "id3 = id3.fit(x_train, y_train)"
      ],
      "execution_count": 13,
      "outputs": []
    },
    {
      "cell_type": "code",
      "metadata": {
        "colab": {
          "base_uri": "https://localhost:8080/",
          "height": 37
        },
        "id": "oimzIRhllCl1",
        "outputId": "060d81fd-2a05-49bd-c981-41f86c405bec"
      },
      "source": [
        "dot_data = tree.export_graphviz(id3, out_file=None, \n",
        "                      feature_names=feature_names,  \n",
        "                      class_names=class_names,  \n",
        "                      filled=True, rounded=True,  \n",
        "                      special_characters=True)\n",
        "graph = graphviz.Source(dot_data)\n",
        "graph\n",
        "graph.render(\"ID3_without_pruning\")"
      ],
      "execution_count": 14,
      "outputs": [
        {
          "output_type": "execute_result",
          "data": {
            "application/vnd.google.colaboratory.intrinsic+json": {
              "type": "string"
            },
            "text/plain": [
              "'ID3_without_pruning.pdf'"
            ]
          },
          "metadata": {
            "tags": []
          },
          "execution_count": 14
        }
      ]
    },
    {
      "cell_type": "code",
      "metadata": {
        "colab": {
          "base_uri": "https://localhost:8080/"
        },
        "id": "u2O3o9hXlH2K",
        "outputId": "135e7be3-78a0-42eb-b5ea-b62a0b68b533"
      },
      "source": [
        "y_train_pred = id3.predict(x_train)\n",
        "y_test_pred = id3.predict(x_test)\n",
        "print(f'Train score {accuracy_score(y_train_pred,y_train)}')\n",
        "print(f'Test score {accuracy_score(y_test_pred,y_test)}')"
      ],
      "execution_count": 15,
      "outputs": [
        {
          "output_type": "stream",
          "text": [
            "Train score 1.0\n",
            "Test score 0.8552631578947368\n"
          ],
          "name": "stdout"
        }
      ]
    },
    {
      "cell_type": "markdown",
      "metadata": {
        "id": "LFhJZj0ulU8B"
      },
      "source": [
        "We have achieved a score of **80.2%** on the testing dataset without pruning"
      ]
    },
    {
      "cell_type": "markdown",
      "metadata": {
        "id": "jTJXlLJKlZPq"
      },
      "source": [
        "# Pruning Analysis"
      ]
    },
    {
      "cell_type": "markdown",
      "metadata": {
        "id": "TdfnWIxclgDp"
      },
      "source": [
        "Pruning the tree is nothing but stoping the growth of decision tree on an early stage. For that we can limit the growth of trees by setting constrains. We can limit parameters like max_depth , min_samples etc.\n",
        "\n",
        "An effective way to do is that we can grid search those parameters and choose the optimum values that gives better performace on test data.\n",
        "\n",
        "As of now we will control these parameters\n",
        "\n",
        "- max_depth: maximum depth of decision tree\n",
        "- min_sample_split: The minimum number of samples required to split an internal node:\n",
        "- min_samples_leaf: The minimum number of samples required to be at a leaf node."
      ]
    },
    {
      "cell_type": "markdown",
      "metadata": {
        "id": "HAxJR_K3leIk"
      },
      "source": [
        "## 1) Pruning Gini "
      ]
    },
    {
      "cell_type": "markdown",
      "metadata": {
        "id": "6KtibEKxmrJj"
      },
      "source": [
        "### 1) Parameters to prune"
      ]
    },
    {
      "cell_type": "code",
      "metadata": {
        "colab": {
          "base_uri": "https://localhost:8080/"
        },
        "id": "8Uzv2B6ylMG2",
        "outputId": "3d40c169-6f70-4060-90b7-2d62bb6757eb"
      },
      "source": [
        "params = {'max_depth': [2,4,6,8,10,12],\n",
        "         'min_samples_split': [2,3,4],\n",
        "         'min_samples_leaf': [1,2]}\n",
        "\n",
        "clf = tree.DecisionTreeClassifier(criterion = \"gini\", random_state=10)\n",
        "gcv = GridSearchCV(estimator=clf,param_grid=params)\n",
        "gcv.fit(x_train,y_train)"
      ],
      "execution_count": 16,
      "outputs": [
        {
          "output_type": "execute_result",
          "data": {
            "text/plain": [
              "GridSearchCV(cv=None, error_score=nan,\n",
              "             estimator=DecisionTreeClassifier(ccp_alpha=0.0, class_weight=None,\n",
              "                                              criterion='gini', max_depth=None,\n",
              "                                              max_features=None,\n",
              "                                              max_leaf_nodes=None,\n",
              "                                              min_impurity_decrease=0.0,\n",
              "                                              min_impurity_split=None,\n",
              "                                              min_samples_leaf=1,\n",
              "                                              min_samples_split=2,\n",
              "                                              min_weight_fraction_leaf=0.0,\n",
              "                                              presort='deprecated',\n",
              "                                              random_state=10,\n",
              "                                              splitter='best'),\n",
              "             iid='deprecated', n_jobs=None,\n",
              "             param_grid={'max_depth': [2, 4, 6, 8, 10, 12],\n",
              "                         'min_samples_leaf': [1, 2],\n",
              "                         'min_samples_split': [2, 3, 4]},\n",
              "             pre_dispatch='2*n_jobs', refit=True, return_train_score=False,\n",
              "             scoring=None, verbose=0)"
            ]
          },
          "metadata": {
            "tags": []
          },
          "execution_count": 16
        }
      ]
    },
    {
      "cell_type": "markdown",
      "metadata": {
        "id": "hEIYKjSmmt5K"
      },
      "source": [
        "### 2) Fitting the model"
      ]
    },
    {
      "cell_type": "code",
      "metadata": {
        "id": "-yysnJQymj2y"
      },
      "source": [
        "model = gcv.best_estimator_\n",
        "model.fit(x_train,y_train)\n",
        "y_train_pred = model.predict(x_train)\n",
        "y_test_pred = model.predict(x_test)\n"
      ],
      "execution_count": 17,
      "outputs": []
    },
    {
      "cell_type": "markdown",
      "metadata": {
        "id": "Iq8Q-cFZmwgr"
      },
      "source": [
        "### 3) Accuracy"
      ]
    },
    {
      "cell_type": "code",
      "metadata": {
        "colab": {
          "base_uri": "https://localhost:8080/"
        },
        "id": "Nnm5jHm_moZx",
        "outputId": "1a396392-d38c-4f79-dd1e-ed35b9f3f9cb"
      },
      "source": [
        "print(f'Train score {accuracy_score(y_train_pred,y_train)}')\n",
        "print(f'Test score {accuracy_score(y_test_pred,y_test)}')"
      ],
      "execution_count": 18,
      "outputs": [
        {
          "output_type": "stream",
          "text": [
            "Train score 0.775330396475771\n",
            "Test score 0.75\n"
          ],
          "name": "stdout"
        }
      ]
    },
    {
      "cell_type": "markdown",
      "metadata": {
        "id": "4pOncYJam8he"
      },
      "source": [
        "We get an **81.5%** accuracy on CART with pruning!"
      ]
    },
    {
      "cell_type": "markdown",
      "metadata": {
        "id": "hovHM51dnz9b"
      },
      "source": [
        "### 4) Visualisation"
      ]
    },
    {
      "cell_type": "code",
      "metadata": {
        "colab": {
          "base_uri": "https://localhost:8080/",
          "height": 37
        },
        "id": "6AIZ7jBrnzTu",
        "outputId": "bceb2c96-a87d-4f1b-e11d-ff1c25b1c73e"
      },
      "source": [
        "dot_data = tree.export_graphviz(model, out_file=None, \n",
        "                      feature_names=feature_names,  \n",
        "                      class_names=class_names,  \n",
        "                      filled=True, rounded=True,  \n",
        "                      special_characters=True)\n",
        "graph = graphviz.Source(dot_data)\n",
        "graph\n",
        "graph.render(\"CART_With_pruning\")"
      ],
      "execution_count": 19,
      "outputs": [
        {
          "output_type": "execute_result",
          "data": {
            "application/vnd.google.colaboratory.intrinsic+json": {
              "type": "string"
            },
            "text/plain": [
              "'CART_With_pruning.pdf'"
            ]
          },
          "metadata": {
            "tags": []
          },
          "execution_count": 19
        }
      ]
    },
    {
      "cell_type": "markdown",
      "metadata": {
        "id": "R7fJkJzFnA-a"
      },
      "source": [
        "## 2) Pruning ID3"
      ]
    },
    {
      "cell_type": "markdown",
      "metadata": {
        "id": "34sTxLcfnMLR"
      },
      "source": [
        "### 1) Parameters to Prune"
      ]
    },
    {
      "cell_type": "code",
      "metadata": {
        "colab": {
          "base_uri": "https://localhost:8080/"
        },
        "id": "UbtPQoh9mo7p",
        "outputId": "51b4a696-aa2b-4dd1-c245-6c011d89f9dc"
      },
      "source": [
        "params = {'max_depth': [2,4,6,8,10,12],\n",
        "         'min_samples_split': [2,3,4],\n",
        "         'min_samples_leaf': [1,2]}\n",
        "\n",
        "clf = tree.DecisionTreeClassifier(criterion = \"entropy\", random_state=10)\n",
        "gcv = GridSearchCV(estimator=clf,param_grid=params)\n",
        "gcv.fit(x_train,y_train)"
      ],
      "execution_count": 20,
      "outputs": [
        {
          "output_type": "execute_result",
          "data": {
            "text/plain": [
              "GridSearchCV(cv=None, error_score=nan,\n",
              "             estimator=DecisionTreeClassifier(ccp_alpha=0.0, class_weight=None,\n",
              "                                              criterion='entropy',\n",
              "                                              max_depth=None, max_features=None,\n",
              "                                              max_leaf_nodes=None,\n",
              "                                              min_impurity_decrease=0.0,\n",
              "                                              min_impurity_split=None,\n",
              "                                              min_samples_leaf=1,\n",
              "                                              min_samples_split=2,\n",
              "                                              min_weight_fraction_leaf=0.0,\n",
              "                                              presort='deprecated',\n",
              "                                              random_state=10,\n",
              "                                              splitter='best'),\n",
              "             iid='deprecated', n_jobs=None,\n",
              "             param_grid={'max_depth': [2, 4, 6, 8, 10, 12],\n",
              "                         'min_samples_leaf': [1, 2],\n",
              "                         'min_samples_split': [2, 3, 4]},\n",
              "             pre_dispatch='2*n_jobs', refit=True, return_train_score=False,\n",
              "             scoring=None, verbose=0)"
            ]
          },
          "metadata": {
            "tags": []
          },
          "execution_count": 20
        }
      ]
    },
    {
      "cell_type": "markdown",
      "metadata": {
        "id": "E5zfkb80nQ7l"
      },
      "source": [
        "### 2) Fit model"
      ]
    },
    {
      "cell_type": "code",
      "metadata": {
        "id": "xcWNdrTSnPx0"
      },
      "source": [
        "model_id3 = gcv.best_estimator_\n",
        "model_id3.fit(x_train,y_train)\n",
        "y_train_pred = model_id3.predict(x_train)\n",
        "y_test_pred = model_id3.predict(x_test)\n"
      ],
      "execution_count": 21,
      "outputs": []
    },
    {
      "cell_type": "markdown",
      "metadata": {
        "id": "Hy6spIFqnXQD"
      },
      "source": [
        "### 3) Accuracy"
      ]
    },
    {
      "cell_type": "code",
      "metadata": {
        "colab": {
          "base_uri": "https://localhost:8080/"
        },
        "id": "y6WBFCT-nWds",
        "outputId": "913a1e10-6549-4c4e-b00f-ff25db1f4270"
      },
      "source": [
        "print(f'Train score {accuracy_score(y_train_pred,y_train)}')\n",
        "print(f'Test score {accuracy_score(y_test_pred,y_test)}')"
      ],
      "execution_count": 22,
      "outputs": [
        {
          "output_type": "stream",
          "text": [
            "Train score 0.775330396475771\n",
            "Test score 0.75\n"
          ],
          "name": "stdout"
        }
      ]
    },
    {
      "cell_type": "markdown",
      "metadata": {
        "id": "hd5xJVW5nCF7"
      },
      "source": [
        "## 4) Visualisation\n"
      ]
    },
    {
      "cell_type": "code",
      "metadata": {
        "colab": {
          "base_uri": "https://localhost:8080/",
          "height": 37
        },
        "id": "R8DJFYP8nPzK",
        "outputId": "f87972c9-3fce-436d-f920-63c78325e96c"
      },
      "source": [
        "dot_data = tree.export_graphviz(model_id3, out_file=None, \n",
        "                      feature_names=feature_names,  \n",
        "                      class_names=class_names,  \n",
        "                      filled=True, rounded=True,  \n",
        "                      special_characters=True)\n",
        "graph = graphviz.Source(dot_data)\n",
        "graph\n",
        "graph.render(\"ID3_With_pruning\")"
      ],
      "execution_count": 23,
      "outputs": [
        {
          "output_type": "execute_result",
          "data": {
            "application/vnd.google.colaboratory.intrinsic+json": {
              "type": "string"
            },
            "text/plain": [
              "'ID3_With_pruning.pdf'"
            ]
          },
          "metadata": {
            "tags": []
          },
          "execution_count": 23
        }
      ]
    },
    {
      "cell_type": "markdown",
      "metadata": {
        "id": "g0RIRKc3ngj_"
      },
      "source": [
        "# Analysis\n",
        "After the experiments, we found out the following"
      ]
    },
    {
      "cell_type": "markdown",
      "metadata": {
        "id": "GFjYns5_nmOq"
      },
      "source": [
        ">Algorithms | Accuracy on Test Set (Without Pruning) | Accuracy on Test Set (With Pruning)\n",
        ">--- | --- | --- \n",
        ">CART | 80% | 81.5%\n",
        ">C4.5 | 100% | 100%\n",
        ">ID3 | 85.5% | 82.5%\n"
      ]
    },
    {
      "cell_type": "markdown",
      "metadata": {
        "id": "aSOo9Q1Xl4wD"
      },
      "source": [
        "Additionally, here is the comparision of the heights of the trees created by the algorithms "
      ]
    },
    {
      "cell_type": "markdown",
      "metadata": {
        "id": "kf_u0wy7mAB9"
      },
      "source": [
        ">Algorithms | Height of Tree (Without Pruning) | Height of Tree (With Pruning)\n",
        ">--- | --- | --- \n",
        ">CART | 11 | 5\n",
        ">C4.5 | 5 | 5\n",
        ">ID3 | 10 | 9"
      ]
    },
    {
      "cell_type": "code",
      "metadata": {
        "id": "FsPsZ-ohnhit"
      },
      "source": [
        ""
      ],
      "execution_count": 23,
      "outputs": []
    }
  ]
}