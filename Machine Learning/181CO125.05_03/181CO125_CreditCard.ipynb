{
  "nbformat": 4,
  "nbformat_minor": 0,
  "metadata": {
    "colab": {
      "name": "181CO125-CreditCard.ipynb",
      "provenance": []
    },
    "kernelspec": {
      "name": "python3",
      "display_name": "Python 3"
    }
  },
  "cells": [
    {
      "cell_type": "markdown",
      "metadata": {
        "id": "_TISpezK5DMP"
      },
      "source": [
        "\n",
        "# Lab 7 - K-Nearest Neighbours     Credit Card Defaulter Dataset\n",
        "\n",
        "#### Author: Krishna Swaroop\n",
        "#### 181CO125, NITK Surathkal"
      ]
    },
    {
      "cell_type": "markdown",
      "metadata": {
        "id": "tGzsfb5z5JLJ"
      },
      "source": [
        "# Introduction"
      ]
    },
    {
      "cell_type": "markdown",
      "metadata": {
        "id": "RRmQde5f5KxH"
      },
      "source": [
        "The k-nearest neighbors (KNN) algorithm is a simple, supervised machine learning algorithm that can be used to solve both classification and regression problems. It's easy to implement and understand, but has a major drawback of becoming significantly slows as the size of that data in use grows."
      ]
    },
    {
      "cell_type": "markdown",
      "metadata": {
        "id": "0p_A0qwc5V-s"
      },
      "source": [
        "# Dataset"
      ]
    },
    {
      "cell_type": "markdown",
      "metadata": {
        "id": "VK6oDoJi5XGC"
      },
      "source": [
        "We are using the [credit card defaulters dataset](https://www.kaggle.com/uciml/default-of-credit-card-clients-dataset/) for this lab.\n",
        "\n",
        "This dataset contains information on default payments, demographic factors, credit data, history of payment, and bill statements of credit card clients in Taiwan from April 2005 to September 2005.\n",
        "\n",
        "Content\n",
        "\n",
        "There are 25 variables:\n",
        "\n",
        "- ID: ID of each client\n",
        "- LIMIT_BAL: Amount of given credit in NT dollars (includes individual and family/supplementary credit\n",
        "- SEX: Gender (1=male, 2=female)\n",
        "- EDUCATION: (1=graduate school, 2=university, 3=high school, 4=others, 5=unknown, 6=unknown)\n",
        "- MARRIAGE: Marital status (1=married, 2=single, 3=others)\n",
        "- AGE: Age in years\n",
        "- PAY_0: Repayment status in September, 2005 (-1=pay duly, 1=payment delay for one month, 2=payment delay for two months, … 8=payment delay for eight months, 9=payment delay for nine months and above)\n",
        "- PAY_2: Repayment status in August, 2005 (scale same as above)\n",
        "- PAY_3: Repayment status in July, 2005 (scale same as above)\n",
        "- PAY_4: Repayment status in June, 2005 (scale same as above)\n",
        "- PAY_5: Repayment status in May, 2005 (scale same as above)\n",
        "- PAY_6: Repayment status in April, 2005 (scale same as above)\n",
        "- BILL_AMT1: Amount of bill statement in September, 2005 (NT dollar)\n",
        "- BILL_AMT2: Amount of bill statement in August, 2005 (NT dollar)\n",
        "- BILL_AMT3: Amount of bill statement in July, 2005 (NT dollar)\n",
        "- BILL_AMT4: Amount of bill statement in June, 2005 (NT dollar)\n",
        "- BILL_AMT5: Amount of bill statement in May, 2005 (NT dollar)\n",
        "- BILL_AMT6: Amount of bill statement in April, 2005 (NT dollar)\n",
        "- PAY_AMT1: Amount of previous payment in September, 2005 (NT dollar)\n",
        "- PAY_AMT2: Amount of previous payment in August, 2005 (NT dollar)\n",
        "- PAY_AMT3: Amount of previous payment in July, 2005 (NT dollar)\n",
        "- PAY_AMT4: Amount of previous payment in June, 2005 (NT dollar)\n",
        "- PAY_AMT5: Amount of previous payment in May, 2005 (NT dollar)\n",
        "- PAY_AMT6: Amount of previous payment in April, 2005 (NT dollar)\n",
        "default.payment.next.month: Default payment (1=yes, 0=no)\n"
      ]
    },
    {
      "cell_type": "markdown",
      "metadata": {
        "id": "6EDBjcMV56O7"
      },
      "source": [
        "# K-Nearest Neighbours"
      ]
    },
    {
      "cell_type": "markdown",
      "metadata": {
        "id": "bfZqlBG158du"
      },
      "source": [
        "## 1) Import Libraries"
      ]
    },
    {
      "cell_type": "code",
      "metadata": {
        "id": "E1o8uso032Vo"
      },
      "source": [
        "%matplotlib inline\n",
        "import h5py\n",
        "import matplotlib.pyplot as plt\n",
        "import numpy as np\n",
        "import pandas as pd \n",
        "import os\n",
        "import numpy as np\n",
        "from IPython.display import Image\n",
        "import sys\n",
        "from sklearn import datasets\n",
        "from sklearn.model_selection import train_test_split \n",
        "from sklearn.neighbors import KNeighborsClassifier"
      ],
      "execution_count": 1,
      "outputs": []
    },
    {
      "cell_type": "markdown",
      "metadata": {
        "id": "yZadmyjD6Rtj"
      },
      "source": [
        "## 2) Load the data"
      ]
    },
    {
      "cell_type": "code",
      "metadata": {
        "id": "o6uM6rRW6Qln"
      },
      "source": [
        "data_path = '/content/drive/MyDrive/Colab Notebooks/ML-Lab/KNN/UCI_Credit_Card.csv'"
      ],
      "execution_count": 2,
      "outputs": []
    },
    {
      "cell_type": "code",
      "metadata": {
        "colab": {
          "base_uri": "https://localhost:8080/"
        },
        "id": "ia9PLU1o5-t4",
        "outputId": "d1abbb01-0e5f-4de7-e043-7e92b79dcf31"
      },
      "source": [
        "df = pd.read_csv(data_path)\n",
        "print(df.head())"
      ],
      "execution_count": 3,
      "outputs": [
        {
          "output_type": "stream",
          "text": [
            "   ID  LIMIT_BAL  SEX  ...  PAY_AMT5  PAY_AMT6  default.payment.next.month\n",
            "0   1    20000.0    2  ...       0.0       0.0                           1\n",
            "1   2   120000.0    2  ...       0.0    2000.0                           1\n",
            "2   3    90000.0    2  ...    1000.0    5000.0                           0\n",
            "3   4    50000.0    2  ...    1069.0    1000.0                           0\n",
            "4   5    50000.0    1  ...     689.0     679.0                           0\n",
            "\n",
            "[5 rows x 25 columns]\n"
          ],
          "name": "stdout"
        }
      ]
    },
    {
      "cell_type": "code",
      "metadata": {
        "colab": {
          "base_uri": "https://localhost:8080/"
        },
        "id": "7MLZTNn46ZEg",
        "outputId": "744911b1-b787-49f2-dacc-a6416726acd7"
      },
      "source": [
        "print(f\"Shape of the dataset: {df.shape}\")"
      ],
      "execution_count": 4,
      "outputs": [
        {
          "output_type": "stream",
          "text": [
            "Shape of the dataset: (30000, 25)\n"
          ],
          "name": "stdout"
        }
      ]
    },
    {
      "cell_type": "markdown",
      "metadata": {
        "id": "5ZFKYjiM6g2k"
      },
      "source": [
        "## 3) Split data"
      ]
    },
    {
      "cell_type": "code",
      "metadata": {
        "id": "466DHf_L6cXf"
      },
      "source": [
        "X = df.drop('default.payment.next.month',axis=1).values\n",
        "y = df['default.payment.next.month'].values\n",
        "\n",
        "X_train,X_test,y_train,y_test = train_test_split(X,y,test_size=0.2,random_state=42, stratify=y) "
      ],
      "execution_count": 5,
      "outputs": []
    },
    {
      "cell_type": "markdown",
      "metadata": {
        "id": "Mup4GtT36qKU"
      },
      "source": [
        "## 4) Fit the model"
      ]
    },
    {
      "cell_type": "markdown",
      "metadata": {
        "id": "xs-0z6uj6tNk"
      },
      "source": [
        "Here, we loop through 1 to 20 neighbours to find out which gives us the highest test accuracy"
      ]
    },
    {
      "cell_type": "code",
      "metadata": {
        "id": "at8ZpzX16mtZ"
      },
      "source": [
        "neighbours = np.arange(1, 20)\n",
        "train_accuracy = []\n",
        "test_accuracy = []\n",
        "\n",
        "for i, n_neighbours in enumerate(neighbours):\n",
        "    knn = KNeighborsClassifier(n_neighbors=n_neighbours)\n",
        "    \n",
        "    #Fit the model\n",
        "    knn.fit(X_train, y_train)\n",
        "    train_accuracy.append(knn.score(X_train, y_train))\n",
        "    test_accuracy.append(knn.score(X_test, y_test))\n",
        "    \n"
      ],
      "execution_count": 6,
      "outputs": []
    },
    {
      "cell_type": "markdown",
      "metadata": {
        "id": "sVie1hS37LMv"
      },
      "source": [
        "Plot the accuracy values"
      ]
    },
    {
      "cell_type": "code",
      "metadata": {
        "colab": {
          "base_uri": "https://localhost:8080/",
          "height": 295
        },
        "id": "aH5iaCdi7H1W",
        "outputId": "444658aa-a31d-4a00-cea1-b39caa2f5869"
      },
      "source": [
        "plt.title('k-NN Varying number of neighbors')\n",
        "plt.plot(neighbours, test_accuracy, label='Testing Accuracy')\n",
        "plt.plot(neighbours, train_accuracy, label='Training accuracy')\n",
        "plt.legend()\n",
        "plt.xlabel('Number of neighbors')\n",
        "plt.ylabel('Accuracy')\n",
        "plt.show()"
      ],
      "execution_count": 7,
      "outputs": [
        {
          "output_type": "display_data",
          "data": {
            "image/png": "[encoded data removed]",
            "text/plain": [
              "<Figure size 432x288 with 1 Axes>"
            ]
          },
          "metadata": {
            "tags": [],
            "needs_background": "light"
          }
        }
      ]
    },
    {
      "cell_type": "markdown",
      "metadata": {
        "id": "gJGwc6mv7hSt"
      },
      "source": [
        "From the above plot, we see that the test accuracy reaches a maximum at `n_neighbours = 6/8`. We shall use n_neighbours = 8 for our calculation"
      ]
    },
    {
      "cell_type": "code",
      "metadata": {
        "colab": {
          "base_uri": "https://localhost:8080/"
        },
        "id": "oTLxCiOf7Nlp",
        "outputId": "37cdb9fc-1ffd-468f-f63d-1763e73cc934"
      },
      "source": [
        "knn = KNeighborsClassifier(n_neighbors=8)\n",
        "knn.fit(X_train,y_train)\n",
        "\n",
        "print(f\"Accuracy of the KNN model: {knn.score(X_test,y_test)}\")"
      ],
      "execution_count": 8,
      "outputs": [
        {
          "output_type": "stream",
          "text": [
            "Accuracy of the KNN model: 0.7716666666666666\n"
          ],
          "name": "stdout"
        }
      ]
    },
    {
      "cell_type": "markdown",
      "metadata": {
        "id": "J_no-jtx78UL"
      },
      "source": [
        "## 5) Performance Metrics and Analysis"
      ]
    },
    {
      "cell_type": "markdown",
      "metadata": {
        "id": "BUt42GU37_Yz"
      },
      "source": [
        "### 5.1) Confusion Matrix "
      ]
    },
    {
      "cell_type": "code",
      "metadata": {
        "colab": {
          "base_uri": "https://localhost:8080/",
          "height": 594
        },
        "id": "IF5b6cl971-w",
        "outputId": "09cef9e5-4a87-4430-85b4-d135e92d4468"
      },
      "source": [
        "from sklearn.metrics import confusion_matrix\n",
        "import seaborn as sns\n",
        "y_pred = knn.predict(X_test)\n",
        "cm = confusion_matrix(y_test,y_pred)\n",
        "f,ax = plt.subplots(figsize=(10, 10))\n",
        "sns.heatmap(cm, annot=True, linewidths=0.5,linecolor=\"red\", fmt= '.0f',ax=ax)\n",
        "plt.show()\n"
      ],
      "execution_count": 9,
      "outputs": [
        {
          "output_type": "display_data",
          "data": {
            "image/png": "[encoded data removed]",
            "text/plain": [
              "<Figure size 720x720 with 2 Axes>"
            ]
          },
          "metadata": {
            "tags": [],
            "needs_background": "light"
          }
        }
      ]
    },
    {
      "cell_type": "code",
      "metadata": {
        "colab": {
          "base_uri": "https://localhost:8080/"
        },
        "id": "9I1IVMZ68GbV",
        "outputId": "633041dc-8bb4-4e94-dfb2-b9e15686527b"
      },
      "source": [
        "print('Confusion matrix\\n', cm)\n",
        "print('True Positives(TP) = ', cm[0,0])\n",
        "print('True Negatives(TN) = ', cm[1,1])\n",
        "print('False Positives(FP) = ', cm[0,1])\n",
        "print('False Negatives(FN) = ', cm[1,0])"
      ],
      "execution_count": 10,
      "outputs": [
        {
          "output_type": "stream",
          "text": [
            "Confusion matrix\n",
            " [[4509  164]\n",
            " [1206  121]]\n",
            "True Positives(TP) =  4509\n",
            "True Negatives(TN) =  121\n",
            "False Positives(FP) =  164\n",
            "False Negatives(FN) =  1206\n"
          ],
          "name": "stdout"
        }
      ]
    },
    {
      "cell_type": "markdown",
      "metadata": {
        "id": "gtVOzAsF8pRn"
      },
      "source": [
        "## 5.2) ROC Curve"
      ]
    },
    {
      "cell_type": "markdown",
      "metadata": {
        "id": "HsyfTA1I8yme"
      },
      "source": [
        "AUC - ROC curve is a performance measurement for the classification problems at various threshold settings. ROC is a probability curve and AUC represents the degree or measure of separability. It tells how much the model is capable of distinguishing between classes. Higher the AUC, the better the model is at predicting 0s as 0s and 1s as 1s. By analogy, the Higher the AUC, the better the model is at distinguishing between patients with the disease and no disease.\n"
      ]
    },
    {
      "cell_type": "code",
      "metadata": {
        "colab": {
          "base_uri": "https://localhost:8080/",
          "height": 295
        },
        "id": "8egc6MBX8eVs",
        "outputId": "5400891d-8c5a-4580-ca38-8a52d3ad8124"
      },
      "source": [
        "y_pred_proba = knn.predict_proba(X_test)[:,1]\n",
        "from sklearn.metrics import roc_curve\n",
        "fpr, tpr, thresholds = roc_curve(y_test, y_pred_proba)\n",
        "plt.plot([0,1],[0,1],'k--')\n",
        "plt.plot(fpr,tpr, label='Knn')\n",
        "plt.xlabel('False Positive Rate')\n",
        "plt.ylabel('True Positive Rate')\n",
        "plt.title('Knn(n_neighbors=8) ROC curve')\n",
        "plt.show()"
      ],
      "execution_count": 11,
      "outputs": [
        {
          "output_type": "display_data",
          "data": {
            "image/png": "[encoded data removed]",
            "text/plain": [
              "<Figure size 432x288 with 1 Axes>"
            ]
          },
          "metadata": {
            "tags": [],
            "needs_background": "light"
          }
        }
      ]
    },
    {
      "cell_type": "code",
      "metadata": {
        "colab": {
          "base_uri": "https://localhost:8080/"
        },
        "id": "HsBeo9ws8405",
        "outputId": "92af7325-a47d-4b86-e44a-9f4c2d9757ae"
      },
      "source": [
        "#Area under ROC curve\n",
        "from sklearn.metrics import roc_auc_score\n",
        "roc_auc_score(y_test,y_pred_proba)"
      ],
      "execution_count": 12,
      "outputs": [
        {
          "output_type": "execute_result",
          "data": {
            "text/plain": [
              "0.6220040054371252"
            ]
          },
          "metadata": {
            "tags": []
          },
          "execution_count": 12
        }
      ]
    }
  ]
}