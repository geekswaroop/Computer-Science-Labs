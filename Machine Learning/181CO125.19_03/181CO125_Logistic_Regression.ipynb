{
  "nbformat": 4,
  "nbformat_minor": 0,
  "metadata": {
    "colab": {
      "name": "181CO125-Logistic-Regression.ipynb",
      "provenance": [],
      "toc_visible": true
    },
    "kernelspec": {
      "name": "python3",
      "display_name": "Python 3"
    },
    "language_info": {
      "name": "python"
    }
  },
  "cells": [
    {
      "cell_type": "markdown",
      "metadata": {
        "id": "itfrE1TI13c2"
      },
      "source": [
        "\n",
        "# Lab 9 - Logistic Regression    IRIS Dataset\n",
        "\n",
        "#### Author: Krishna Swaroop\n",
        "#### 181CO125, NITK Surathkal"
      ]
    },
    {
      "cell_type": "markdown",
      "metadata": {
        "id": "FqAI3F322NbR"
      },
      "source": [
        "# Logistic Regression - Introduction"
      ]
    },
    {
      "cell_type": "markdown",
      "metadata": {
        "id": "XeUVdIV12PCq"
      },
      "source": [
        "Logistic regression is a statistical model that in its basic form uses a logistic function to model a binary dependent variable, although many more complex extensions exist."
      ]
    },
    {
      "cell_type": "markdown",
      "metadata": {
        "id": "ebXXuLvK2eAP"
      },
      "source": [
        "In a binary logistic regression model, the dependent variable has two levels (categorical). Outputs with more than two values are modeled by multinomial logistic regression and, if the multiple categories are ordered, by ordinal logistic regression (for example the proportional odds ordinal logistic model). The logistic regression model itself simply models probability of output in terms of input and does not perform statistical classification (it is not a classifier), though it can be used to make a classifier, for instance by choosing a cutoff value and classifying inputs with probability greater than the cutoff as one class, below the cutoff as the other; this is a common way to make a binary classifier."
      ]
    },
    {
      "cell_type": "markdown",
      "metadata": {
        "id": "hVK1rIOD2CNZ"
      },
      "source": [
        "# Dataset"
      ]
    },
    {
      "cell_type": "markdown",
      "metadata": {
        "id": "YBhIZBiQ2DwE"
      },
      "source": [
        "The iris dataset is a classic and very easy multi-class classification dataset. The dataset is described below\n"
      ]
    },
    {
      "cell_type": "markdown",
      "metadata": {
        "id": "3U4QnQ8M2GU2"
      },
      "source": [
        "\n",
        ">Features | Quantity\n",
        ">--- | ---\n",
        ">Classes | 3\n",
        ">Samples per Class | 50\n",
        ">Samples Total | 150\n",
        ">Dimensionality | 4"
      ]
    },
    {
      "cell_type": "markdown",
      "metadata": {
        "id": "anIZgyJI2IX8"
      },
      "source": [
        "The classes are numbered 0/1/2 and the features are real valued attributes"
      ]
    },
    {
      "cell_type": "markdown",
      "metadata": {
        "id": "W73wui2N2jTv"
      },
      "source": [
        "# Logistic Regression"
      ]
    },
    {
      "cell_type": "markdown",
      "metadata": {
        "id": "jZKLKduU2q84"
      },
      "source": [
        "## 1) Install required libraries"
      ]
    },
    {
      "cell_type": "code",
      "metadata": {
        "id": "WVkg-drdyrjn"
      },
      "source": [
        "import numpy as np\n",
        "import matplotlib.pyplot as plt\n",
        "import pandas as pd\n",
        "from sklearn.model_selection import train_test_split\n",
        "from sklearn.preprocessing import StandardScaler\n",
        "from sklearn.linear_model import LogisticRegression\n",
        "from sklearn.metrics import confusion_matrix\n",
        "import seaborn as sns\n",
        "from sklearn.datasets import load_iris\n"
      ],
      "execution_count": 1,
      "outputs": []
    },
    {
      "cell_type": "markdown",
      "metadata": {
        "id": "KoKCDAdk2tLv"
      },
      "source": [
        "## 2) Load the data"
      ]
    },
    {
      "cell_type": "markdown",
      "metadata": {
        "id": "e1ybWZ5u2uY1"
      },
      "source": [
        "Here, we are loading via scikit-learn's load_iris class. We can alternatively use ```pd.read_csv()``` if we have the csv file of the dataset\n",
        "\n",
        "---"
      ]
    },
    {
      "cell_type": "code",
      "metadata": {
        "id": "NAUSbFjb0eZv"
      },
      "source": [
        "iris = load_iris()\n",
        "X, y = load_iris(return_X_y=True)"
      ],
      "execution_count": 2,
      "outputs": []
    },
    {
      "cell_type": "code",
      "metadata": {
        "colab": {
          "base_uri": "https://localhost:8080/"
        },
        "id": "KGxYgQZ720Wo",
        "outputId": "4be28b67-7e2f-43d7-c305-05f7d3836617"
      },
      "source": [
        "print(\"Features of first five values are: \")\n",
        "print(X[0:5])\n",
        "print(\"Classes of first five values are: \", y[0:5])"
      ],
      "execution_count": 3,
      "outputs": [
        {
          "output_type": "stream",
          "text": [
            "Features of first five values are: \n",
            "[[5.1 3.5 1.4 0.2]\n",
            " [4.9 3.  1.4 0.2]\n",
            " [4.7 3.2 1.3 0.2]\n",
            " [4.6 3.1 1.5 0.2]\n",
            " [5.  3.6 1.4 0.2]]\n",
            "Classes of first five values are:  [0 0 0 0 0]\n"
          ],
          "name": "stdout"
        }
      ]
    },
    {
      "cell_type": "markdown",
      "metadata": {
        "id": "l-EyuYt221nl"
      },
      "source": [
        "## 3) Split data"
      ]
    },
    {
      "cell_type": "markdown",
      "metadata": {
        "id": "iOwmWPoY23Lx"
      },
      "source": [
        "Use ```train_test_split()``` to split the X and y to training and testing dataset. Here, 20% of the dataset is reserved to test our algorithm\n"
      ]
    },
    {
      "cell_type": "code",
      "metadata": {
        "id": "xT2elRir0hJX"
      },
      "source": [
        "X_train, X_test, y_train, y_test = train_test_split(X, y, test_size = 0.25, random_state = 0)\n"
      ],
      "execution_count": 4,
      "outputs": []
    },
    {
      "cell_type": "markdown",
      "metadata": {
        "id": "rez3fUi926yu"
      },
      "source": [
        "## 4) Fit the model"
      ]
    },
    {
      "cell_type": "code",
      "metadata": {
        "id": "BsnDmpVO0iv2"
      },
      "source": [
        "sc = StandardScaler()\n",
        "X_train = sc.fit_transform(X_train)\n",
        "X_test = sc.transform(X_test)"
      ],
      "execution_count": 5,
      "outputs": []
    },
    {
      "cell_type": "code",
      "metadata": {
        "colab": {
          "base_uri": "https://localhost:8080/"
        },
        "id": "5HapaVRt0kyQ",
        "outputId": "93da1e97-1690-4f81-e325-710576a295bb"
      },
      "source": [
        "classifier = LogisticRegression(random_state = 0, solver='lbfgs', multi_class='auto')\n",
        "classifier.fit(X_train, y_train)"
      ],
      "execution_count": 6,
      "outputs": [
        {
          "output_type": "execute_result",
          "data": {
            "text/plain": [
              "LogisticRegression(C=1.0, class_weight=None, dual=False, fit_intercept=True,\n",
              "                   intercept_scaling=1, l1_ratio=None, max_iter=100,\n",
              "                   multi_class='auto', n_jobs=None, penalty='l2',\n",
              "                   random_state=0, solver='lbfgs', tol=0.0001, verbose=0,\n",
              "                   warm_start=False)"
            ]
          },
          "metadata": {
            "tags": []
          },
          "execution_count": 6
        }
      ]
    },
    {
      "cell_type": "markdown",
      "metadata": {
        "id": "69voxVwZ2_IE"
      },
      "source": [
        "## 5) Accuracy"
      ]
    },
    {
      "cell_type": "code",
      "metadata": {
        "colab": {
          "base_uri": "https://localhost:8080/"
        },
        "id": "lxFuv90C2-_o",
        "outputId": "733a262a-4f52-4b68-d636-3a345768dceb"
      },
      "source": [
        "acc = classifier.score(X_test, y_test)\n",
        "print(\"Accuracy of Logistic Regression Model: \", acc)"
      ],
      "execution_count": 7,
      "outputs": [
        {
          "output_type": "stream",
          "text": [
            "Accuracy of Logistic Regression Model:  0.9736842105263158\n"
          ],
          "name": "stdout"
        }
      ]
    },
    {
      "cell_type": "markdown",
      "metadata": {
        "id": "HnqjnEYq3KkH"
      },
      "source": [
        "## 6) Metrics and Analysis"
      ]
    },
    {
      "cell_type": "code",
      "metadata": {
        "id": "rAWTcdI80m9b"
      },
      "source": [
        "y_pred = classifier.predict(X_test)\n"
      ],
      "execution_count": 8,
      "outputs": []
    },
    {
      "cell_type": "code",
      "metadata": {
        "id": "zqFMbn501P5S"
      },
      "source": [
        "probs_y=classifier.predict_proba(X_test)\n"
      ],
      "execution_count": 9,
      "outputs": []
    },
    {
      "cell_type": "code",
      "metadata": {
        "id": "_1KylJDT1RZ6"
      },
      "source": [
        "probs_y = np.round(probs_y, 2)\n"
      ],
      "execution_count": 10,
      "outputs": []
    },
    {
      "cell_type": "markdown",
      "metadata": {
        "id": "WgjiV1AE3N1_"
      },
      "source": [
        "Here is the predicted and real labels of the test samples"
      ]
    },
    {
      "cell_type": "code",
      "metadata": {
        "colab": {
          "base_uri": "https://localhost:8080/"
        },
        "id": "QONkDFdb1S96",
        "outputId": "bad35d84-a635-47da-adab-fc73a27ba479"
      },
      "source": [
        "res = \"{:<10} | {:<10} | {:<10} | {:<13} | {:<5}\".format(\"y_test\", \"y_pred\", \"Setosa(%)\", \"versicolor(%)\", \"virginica(%)\\n\")\n",
        "res += \"-\"*65+\"\\n\"\n",
        "res += \"\\n\".join(\"{:<10} | {:<10} | {:<10} | {:<13} | {:<10}\".format(x, y, a, b, c) for x, y, a, b, c in zip(y_test, y_pred, probs_y[:,0], probs_y[:,1], probs_y[:,2]))\n",
        "res += \"\\n\"+\"-\"*65+\"\\n\"\n",
        "print(res)"
      ],
      "execution_count": 11,
      "outputs": [
        {
          "output_type": "stream",
          "text": [
            "y_test     | y_pred     | Setosa(%)  | versicolor(%) | virginica(%)\n",
            "-----------------------------------------------------------------\n",
            "2          | 2          | 0.0        | 0.03          | 0.97      \n",
            "1          | 1          | 0.01       | 0.95          | 0.04      \n",
            "0          | 0          | 1.0        | 0.0           | 0.0       \n",
            "2          | 2          | 0.0        | 0.08          | 0.92      \n",
            "0          | 0          | 0.98       | 0.02          | 0.0       \n",
            "2          | 2          | 0.0        | 0.01          | 0.99      \n",
            "0          | 0          | 0.98       | 0.02          | 0.0       \n",
            "1          | 1          | 0.01       | 0.71          | 0.28      \n",
            "1          | 1          | 0.0        | 0.73          | 0.27      \n",
            "1          | 1          | 0.02       | 0.89          | 0.08      \n",
            "2          | 2          | 0.0        | 0.44          | 0.56      \n",
            "1          | 1          | 0.02       | 0.76          | 0.22      \n",
            "1          | 1          | 0.01       | 0.85          | 0.13      \n",
            "1          | 1          | 0.0        | 0.69          | 0.3       \n",
            "1          | 1          | 0.01       | 0.75          | 0.24      \n",
            "0          | 0          | 0.99       | 0.01          | 0.0       \n",
            "1          | 1          | 0.02       | 0.72          | 0.26      \n",
            "1          | 1          | 0.03       | 0.86          | 0.11      \n",
            "0          | 0          | 0.94       | 0.06          | 0.0       \n",
            "0          | 0          | 0.99       | 0.01          | 0.0       \n",
            "2          | 2          | 0.0        | 0.17          | 0.83      \n",
            "1          | 1          | 0.04       | 0.71          | 0.25      \n",
            "0          | 0          | 0.98       | 0.02          | 0.0       \n",
            "0          | 0          | 0.96       | 0.04          | 0.0       \n",
            "2          | 2          | 0.0        | 0.35          | 0.65      \n",
            "0          | 0          | 1.0        | 0.0           | 0.0       \n",
            "0          | 0          | 0.99       | 0.01          | 0.0       \n",
            "1          | 1          | 0.02       | 0.87          | 0.11      \n",
            "1          | 1          | 0.09       | 0.9           | 0.02      \n",
            "0          | 0          | 0.97       | 0.03          | 0.0       \n",
            "2          | 2          | 0.0        | 0.21          | 0.79      \n",
            "1          | 1          | 0.06       | 0.69          | 0.25      \n",
            "0          | 0          | 0.98       | 0.02          | 0.0       \n",
            "2          | 2          | 0.0        | 0.35          | 0.65      \n",
            "2          | 2          | 0.0        | 0.04          | 0.96      \n",
            "1          | 1          | 0.07       | 0.81          | 0.11      \n",
            "0          | 0          | 0.97       | 0.03          | 0.0       \n",
            "1          | 2          | 0.0        | 0.42          | 0.58      \n",
            "-----------------------------------------------------------------\n",
            "\n"
          ],
          "name": "stdout"
        }
      ]
    },
    {
      "cell_type": "code",
      "metadata": {
        "id": "1ZGmZkk_1UhU"
      },
      "source": [
        "cm = confusion_matrix(y_test, y_pred)"
      ],
      "execution_count": 12,
      "outputs": []
    },
    {
      "cell_type": "code",
      "metadata": {
        "id": "AUKow0C71gvh",
        "colab": {
          "base_uri": "https://localhost:8080/",
          "height": 281
        },
        "outputId": "dfa8df5d-1838-43d7-9171-585b9772a935"
      },
      "source": [
        "ax = plt.axes()\n",
        "df_cm = cm\n",
        "sns.heatmap(df_cm, annot=True, annot_kws={\"size\": 30}, fmt='d',cmap=\"Blues\", ax = ax )\n",
        "ax.set_title('Confusion Matrix')\n",
        "plt.show()"
      ],
      "execution_count": 13,
      "outputs": [
        {
          "output_type": "display_data",
          "data": {
            "image/png": "[encoded data removed]",
            "text/plain": [
              "<Figure size 432x288 with 2 Axes>"
            ]
          },
          "metadata": {
            "tags": [],
            "needs_background": "light"
          }
        }
      ]
    }
  ]
}