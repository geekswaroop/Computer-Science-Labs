{
  "nbformat": 4,
  "nbformat_minor": 0,
  "metadata": {
    "colab": {
      "name": "KNN-181CO125.ipynb",
      "provenance": [],
      "collapsed_sections": []
    },
    "kernelspec": {
      "name": "python3",
      "display_name": "Python 3"
    }
  },
  "cells": [
    {
      "cell_type": "markdown",
      "metadata": {
        "id": "Cdj6u2nAJ2LC"
      },
      "source": [
        "# Lab 6 - K-Nearest Neighbours     Handwritten Digits Dataset\n",
        "\n",
        "#### Author: Krishna Swaroop\n",
        "#### 181CO125, NITK Surathkal"
      ]
    },
    {
      "cell_type": "markdown",
      "metadata": {
        "id": "k12wPJ_qKDAK"
      },
      "source": [
        "# Introduction"
      ]
    },
    {
      "cell_type": "markdown",
      "metadata": {
        "id": "sThgbsSfKES1"
      },
      "source": [
        "The k-nearest neighbors (KNN) algorithm is a simple, supervised machine learning algorithm that can be used to solve both classification and regression problems. It's easy to implement and understand, but has a major drawback of becoming significantly slows as the size of that data in use grows."
      ]
    },
    {
      "cell_type": "markdown",
      "metadata": {
        "id": "IeHP7jW_KFso"
      },
      "source": [
        "# Dataset"
      ]
    },
    {
      "cell_type": "markdown",
      "metadata": {
        "id": "Fny0mVepKHND"
      },
      "source": [
        "[Optical Recognition of Handwritten Digits Dataset](https://archive.ics.uci.edu/ml/datasets/optical+recognition+of+handwritten+digits) is a multi variate dataset. It has 5620 instances and is commonly used in classification tasks. "
      ]
    },
    {
      "cell_type": "markdown",
      "metadata": {
        "id": "TUiTjm8sKja1"
      },
      "source": [
        "# K-Nearest Neighbors"
      ]
    },
    {
      "cell_type": "markdown",
      "metadata": {
        "id": "nzw1iR8DKqMh"
      },
      "source": [
        "## 1) Import Libraries"
      ]
    },
    {
      "cell_type": "code",
      "metadata": {
        "id": "eiQvmO2WIo4y"
      },
      "source": [
        "%matplotlib inline\n",
        "import h5py\n",
        "import matplotlib.pyplot as plt\n",
        "import numpy as np\n",
        "import pandas as pd \n",
        "import os\n",
        "import numpy as np\n",
        "from IPython.display import Image\n",
        "import sys\n",
        "from sklearn import datasets\n",
        "from sklearn.model_selection import train_test_split \n",
        "from sklearn.neighbors import KNeighborsClassifier"
      ],
      "execution_count": 1,
      "outputs": []
    },
    {
      "cell_type": "markdown",
      "metadata": {
        "id": "TV-AG0l4KxuM"
      },
      "source": [
        "## 2) Load and visualise data"
      ]
    },
    {
      "cell_type": "code",
      "metadata": {
        "id": "CTLtlJpsKuuG"
      },
      "source": [
        "digits = datasets.load_digits()\n"
      ],
      "execution_count": 2,
      "outputs": []
    },
    {
      "cell_type": "code",
      "metadata": {
        "colab": {
          "base_uri": "https://localhost:8080/",
          "height": 0
        },
        "id": "0GLHDAQiK3Is",
        "outputId": "e6f35ea8-4d25-48bf-e83c-c66f58626fb2"
      },
      "source": [
        "print(f\"Keys of dataset: {digits.keys()}\")\n",
        "print(f\"Official Description of dataset: {digits.DESCR}\")"
      ],
      "execution_count": 3,
      "outputs": [
        {
          "output_type": "stream",
          "text": [
            "Keys of dataset: dict_keys(['data', 'target', 'target_names', 'images', 'DESCR'])\n",
            "Official Description of dataset: .. _digits_dataset:\n",
            "\n",
            "Optical recognition of handwritten digits dataset\n",
            "--------------------------------------------------\n",
            "\n",
            "**Data Set Characteristics:**\n",
            "\n",
            "    :Number of Instances: 5620\n",
            "    :Number of Attributes: 64\n",
            "    :Attribute Information: 8x8 image of integer pixels in the range 0..16.\n",
            "    :Missing Attribute Values: None\n",
            "    :Creator: E. Alpaydin (alpaydin '@' boun.edu.tr)\n",
            "    :Date: July; 1998\n",
            "\n",
            "This is a copy of the test set of the UCI ML hand-written digits datasets\n",
            "https://archive.ics.uci.edu/ml/datasets/Optical+Recognition+of+Handwritten+Digits\n",
            "\n",
            "The data set contains images of hand-written digits: 10 classes where\n",
            "each class refers to a digit.\n",
            "\n",
            "Preprocessing programs made available by NIST were used to extract\n",
            "normalized bitmaps of handwritten digits from a preprinted form. From a\n",
            "total of 43 people, 30 contributed to the training set and different 13\n",
            "to the test set. 32x32 bitmaps are divided into nonoverlapping blocks of\n",
            "4x4 and the number of on pixels are counted in each block. This generates\n",
            "an input matrix of 8x8 where each element is an integer in the range\n",
            "0..16. This reduces dimensionality and gives invariance to small\n",
            "distortions.\n",
            "\n",
            "For info on NIST preprocessing routines, see M. D. Garris, J. L. Blue, G.\n",
            "T. Candela, D. L. Dimmick, J. Geist, P. J. Grother, S. A. Janet, and C.\n",
            "L. Wilson, NIST Form-Based Handprint Recognition System, NISTIR 5469,\n",
            "1994.\n",
            "\n",
            ".. topic:: References\n",
            "\n",
            "  - C. Kaynak (1995) Methods of Combining Multiple Classifiers and Their\n",
            "    Applications to Handwritten Digit Recognition, MSc Thesis, Institute of\n",
            "    Graduate Studies in Science and Engineering, Bogazici University.\n",
            "  - E. Alpaydin, C. Kaynak (1998) Cascading Classifiers, Kybernetika.\n",
            "  - Ken Tang and Ponnuthurai N. Suganthan and Xi Yao and A. Kai Qin.\n",
            "    Linear dimensionalityreduction using relevance weighted LDA. School of\n",
            "    Electrical and Electronic Engineering Nanyang Technological University.\n",
            "    2005.\n",
            "  - Claudio Gentile. A New Approximate Maximal Margin Classification\n",
            "    Algorithm. NIPS. 2000.\n"
          ],
          "name": "stdout"
        }
      ]
    },
    {
      "cell_type": "code",
      "metadata": {
        "colab": {
          "base_uri": "https://localhost:8080/",
          "height": 0
        },
        "id": "knNKXt2xK_LY",
        "outputId": "29b16022-bfcf-4009-b745-9e298e00ec9d"
      },
      "source": [
        "print(f\"Shape of images: {digits.images.shape}\")\n",
        "print(f\"Shape of data: {digits.data.shape}\")"
      ],
      "execution_count": 4,
      "outputs": [
        {
          "output_type": "stream",
          "text": [
            "Shape of images: (1797, 8, 8)\n",
            "Shape of data: (1797, 64)\n"
          ],
          "name": "stdout"
        }
      ]
    },
    {
      "cell_type": "markdown",
      "metadata": {
        "id": "BILUlJQrLR_Z"
      },
      "source": [
        "Displaying the 956th image"
      ]
    },
    {
      "cell_type": "code",
      "metadata": {
        "colab": {
          "base_uri": "https://localhost:8080/",
          "height": 282
        },
        "id": "gu67DTlcLLzi",
        "outputId": "e3bd9df3-7338-4828-9fee-18ef1f0350f7"
      },
      "source": [
        "plt.imshow(digits.images[956], cmap=plt.cm.gray_r, interpolation='nearest')"
      ],
      "execution_count": 5,
      "outputs": [
        {
          "output_type": "execute_result",
          "data": {
            "text/plain": [
              "<matplotlib.image.AxesImage at 0x7f5feb7acf90>"
            ]
          },
          "metadata": {
            "tags": []
          },
          "execution_count": 5
        },
        {
          "output_type": "display_data",
          "data": {
            "image/png": "[encoded data removed]",
            "text/plain": [
              "<Figure size 432x288 with 1 Axes>"
            ]
          },
          "metadata": {
            "tags": [],
            "needs_background": "light"
          }
        }
      ]
    },
    {
      "cell_type": "markdown",
      "metadata": {
        "id": "dqHpJ-RuLVhI"
      },
      "source": [
        "## 3) Split data\n",
        "Use ```train_test_split()``` to split the data to training and testing dataset. Here, 20% of the dataset is reserved to test our algorithm"
      ]
    },
    {
      "cell_type": "code",
      "metadata": {
        "id": "B20FXacBLQJb"
      },
      "source": [
        "X = digits.data\n",
        "y = digits.target\n",
        "X_train, X_test, y_train, y_test = train_test_split(X, y, test_size = 0.2, random_state=42, stratify=y)"
      ],
      "execution_count": 6,
      "outputs": []
    },
    {
      "cell_type": "markdown",
      "metadata": {
        "id": "cbqFxAGCLjGa"
      },
      "source": [
        "## 4) Fit the model"
      ]
    },
    {
      "cell_type": "markdown",
      "metadata": {
        "id": "NuXZcbnoLoQB"
      },
      "source": [
        "For the baseline, we will fit the model with nearest neighbor count = 7"
      ]
    },
    {
      "cell_type": "code",
      "metadata": {
        "id": "T087SvAaLgeQ"
      },
      "source": [
        "knn = KNeighborsClassifier(n_neighbors=7)\n"
      ],
      "execution_count": 7,
      "outputs": []
    },
    {
      "cell_type": "code",
      "metadata": {
        "colab": {
          "base_uri": "https://localhost:8080/",
          "height": 0
        },
        "id": "_NVYfDIlLrtZ",
        "outputId": "cf8bf265-89a1-464e-a960-8ba5371fa189"
      },
      "source": [
        "knn.fit(X_train, y_train)"
      ],
      "execution_count": 8,
      "outputs": [
        {
          "output_type": "execute_result",
          "data": {
            "text/plain": [
              "KNeighborsClassifier(algorithm='auto', leaf_size=30, metric='minkowski',\n",
              "                     metric_params=None, n_jobs=None, n_neighbors=7, p=2,\n",
              "                     weights='uniform')"
            ]
          },
          "metadata": {
            "tags": []
          },
          "execution_count": 8
        }
      ]
    },
    {
      "cell_type": "markdown",
      "metadata": {
        "id": "DyJOK6JZLxHJ"
      },
      "source": [
        "## 5) Accuracy"
      ]
    },
    {
      "cell_type": "code",
      "metadata": {
        "colab": {
          "base_uri": "https://localhost:8080/",
          "height": 0
        },
        "id": "vNcJlsidLtxv",
        "outputId": "0c2b40a9-17d1-4c0e-e2c9-4586de8fb907"
      },
      "source": [
        "print(f\"Accuracy of KNN model with n_neighbours = 7: {knn.score(X_test, y_test)}\")"
      ],
      "execution_count": 9,
      "outputs": [
        {
          "output_type": "stream",
          "text": [
            "Accuracy of KNN model with n_neighbours = 7: 0.9833333333333333\n"
          ],
          "name": "stdout"
        }
      ]
    },
    {
      "cell_type": "markdown",
      "metadata": {
        "id": "LXRkLMBPL5vQ"
      },
      "source": [
        "We have a 98.3% accuracy! Now, let us do analysis to find the perfect value of k"
      ]
    },
    {
      "cell_type": "markdown",
      "metadata": {
        "id": "tvzXSIz4MBNm"
      },
      "source": [
        "## 6) Analysis"
      ]
    },
    {
      "cell_type": "markdown",
      "metadata": {
        "id": "OhsKu85SMLwy"
      },
      "source": [
        "We will check the train vs test accuracy for k values in between 1 and 15"
      ]
    },
    {
      "cell_type": "code",
      "metadata": {
        "id": "5IUDxkOAMJPB"
      },
      "source": [
        "neighbors = np.arange(1, 15)\n",
        "train_accuracy = np.empty(len(neighbors))\n",
        "test_accuracy = np.empty(len(neighbors))"
      ],
      "execution_count": 10,
      "outputs": []
    },
    {
      "cell_type": "code",
      "metadata": {
        "id": "Goysx2foL4P5"
      },
      "source": [
        "for i, k in enumerate(neighbors):\n",
        "    knn = KNeighborsClassifier(n_neighbors=k)\n",
        "    knn.fit(X_train, y_train)\n",
        "    train_accuracy[i] = knn.score(X_train, y_train)\n",
        "    test_accuracy[i] = knn.score(X_test, y_test)"
      ],
      "execution_count": 11,
      "outputs": []
    },
    {
      "cell_type": "code",
      "metadata": {
        "colab": {
          "base_uri": "https://localhost:8080/",
          "height": 295
        },
        "id": "3WLz9KMCMQJ2",
        "outputId": "c859fd57-9eb1-4df6-99d4-f98825e0c0e2"
      },
      "source": [
        "plt.title('k-NN: Analysis of varying Number of Neighbors')\n",
        "plt.plot(neighbors, test_accuracy, label = 'Testing Accuracy')\n",
        "plt.plot(neighbors, train_accuracy, label = 'Training Accuracy')\n",
        "plt.legend()\n",
        "plt.xlabel('Number of Neighbors')\n",
        "plt.ylabel('Accuracy')\n",
        "plt.show()"
      ],
      "execution_count": 12,
      "outputs": [
        {
          "output_type": "display_data",
          "data": {
            "image/png": "[encoded data removed]",
            "text/plain": [
              "<Figure size 432x288 with 1 Axes>"
            ]
          },
          "metadata": {
            "tags": [],
            "needs_background": "light"
          }
        }
      ]
    },
    {
      "cell_type": "markdown",
      "metadata": {
        "id": "Z6d9ha_3MgtA"
      },
      "source": [
        "As we can see, the test accuracy progressively decreases and hits local maximas at k = 7. "
      ]
    },
    {
      "cell_type": "markdown",
      "metadata": {
        "id": "P1RiYa8VMp8E"
      },
      "source": [
        "Therefore the highest accuracy gained is 98.33%"
      ]
    },
    {
      "cell_type": "code",
      "metadata": {
        "id": "WFm3XzhNMSTg"
      },
      "source": [
        ""
      ],
      "execution_count": 12,
      "outputs": []
    }
  ]
}