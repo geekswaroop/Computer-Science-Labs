{
  "nbformat": 4,
  "nbformat_minor": 0,
  "metadata": {
    "colab": {
      "name": "Multi-Linear-Regression-181CO125.ipynb",
      "provenance": [],
      "collapsed_sections": []
    },
    "kernelspec": {
      "name": "python3",
      "display_name": "Python 3"
    }
  },
  "cells": [
    {
      "cell_type": "markdown",
      "metadata": {
        "id": "IMYmkJ-E16vy"
      },
      "source": [
        "# Lab 5 - Multiple Linear Regression     Diabetes Dataset\n",
        "\n",
        "#### Author: Krishna Swaroop\n",
        "#### 181CO125, NITK Surathkal"
      ]
    },
    {
      "cell_type": "markdown",
      "metadata": {
        "id": "Xcx-nQ8o19xO"
      },
      "source": [
        "# Introduction\n",
        "Linear Regression is a machine learning algorithm based on supervised learning. Regression models a target prediction value based on independent variables. It is mostly used for finding out the relationship between variables and forecasting. \n",
        "\n",
        "Different regression models differ based on – the kind of relationship between dependent and independent variables, they are considering and the number of independent variables being used."
      ]
    },
    {
      "cell_type": "markdown",
      "metadata": {
        "id": "1jBjo2z32BkC"
      },
      "source": [
        "# Dataset"
      ]
    },
    {
      "cell_type": "markdown",
      "metadata": {
        "id": "IQb9D-a12C1E"
      },
      "source": [
        "We are using the [Pima Indians Diabetes Dataset](https://www.kaggle.com/uciml/pima-indians-diabetes-database?select=diabetes.csv). This dataset is originally from the National Institute of Diabetes and Digestive and Kidney Diseases. The objective of the dataset is to diagnostically predict whether or not a patient has diabetes, based on certain diagnostic measurements included in the dataset. Several constraints were placed on the selection of these instances from a larger database. In particular, all patients here are females at least 21 years old of Pima Indian heritage.\n",
        "\n",
        "The datasets consists of several medical predictor variables and one target variable, Outcome. Predictor variables includes the number of pregnancies the patient has had, their BMI, insulin level, age, and so on.\n",
        "\n"
      ]
    },
    {
      "cell_type": "markdown",
      "metadata": {
        "id": "WdbCxQnp2Xcg"
      },
      "source": [
        "# Multiple Linear Regression"
      ]
    },
    {
      "cell_type": "markdown",
      "metadata": {
        "id": "lpLpMzEI2Z9D"
      },
      "source": [
        "## 1) Import libraries"
      ]
    },
    {
      "cell_type": "code",
      "metadata": {
        "id": "IAq9xRKMwfGo"
      },
      "source": [
        "import pandas as pd\n",
        "import numpy as np\n",
        "import seaborn as sns\n",
        "from sklearn.model_selection import train_test_split\n",
        "from sklearn.linear_model import LinearRegression"
      ],
      "execution_count": 1,
      "outputs": []
    },
    {
      "cell_type": "markdown",
      "metadata": {
        "id": "Fkh2DORW2fdT"
      },
      "source": [
        "## 2) Import data"
      ]
    },
    {
      "cell_type": "code",
      "metadata": {
        "id": "Gdr5nCe_2edR"
      },
      "source": [
        "df = pd.read_csv('/content/drive/MyDrive/Colab Notebooks/ML-Lab/Multi Linear Regression/diabetes.csv')"
      ],
      "execution_count": 2,
      "outputs": []
    },
    {
      "cell_type": "code",
      "metadata": {
        "colab": {
          "base_uri": "https://localhost:8080/"
        },
        "id": "nCjIqpse3Nlz",
        "outputId": "20dda4e6-9b08-41e7-c590-2f231acfba1e"
      },
      "source": [
        "print(f\"Columns of dataset: {df.columns}\")"
      ],
      "execution_count": 3,
      "outputs": [
        {
          "output_type": "stream",
          "text": [
            "Columns of dataset: Index(['Pregnancies', 'Glucose', 'BloodPressure', 'SkinThickness', 'Insulin',\n",
            "       'BMI', 'DiabetesPedigreeFunction', 'Age', 'Outcome'],\n",
            "      dtype='object')\n"
          ],
          "name": "stdout"
        }
      ]
    },
    {
      "cell_type": "code",
      "metadata": {
        "colab": {
          "base_uri": "https://localhost:8080/"
        },
        "id": "Yyg7BRmi3RiT",
        "outputId": "facd064e-1ce9-4b87-ee01-ecd00516ba76"
      },
      "source": [
        "print(df.head())"
      ],
      "execution_count": 4,
      "outputs": [
        {
          "output_type": "stream",
          "text": [
            "   Pregnancies  Glucose  BloodPressure  ...  DiabetesPedigreeFunction  Age  Outcome\n",
            "0            6      148             72  ...                     0.627   50        1\n",
            "1            1       85             66  ...                     0.351   31        0\n",
            "2            8      183             64  ...                     0.672   32        1\n",
            "3            1       89             66  ...                     0.167   21        0\n",
            "4            0      137             40  ...                     2.288   33        1\n",
            "\n",
            "[5 rows x 9 columns]\n"
          ],
          "name": "stdout"
        }
      ]
    },
    {
      "cell_type": "code",
      "metadata": {
        "id": "gcksgSXY3UdI"
      },
      "source": [
        "X = np.asanyarray(df[['Pregnancies', 'Glucose', 'BloodPressure', 'SkinThickness', 'Insulin','BMI', 'DiabetesPedigreeFunction', 'Age']])\n",
        "Y = np.asanyarray(df['Outcome'])"
      ],
      "execution_count": 5,
      "outputs": []
    },
    {
      "cell_type": "markdown",
      "metadata": {
        "id": "GQNh0HU830hL"
      },
      "source": [
        "## 3) Split the data"
      ]
    },
    {
      "cell_type": "markdown",
      "metadata": {
        "id": "MIQm7FPG34t6"
      },
      "source": [
        "Use ```train_test_split()``` to split the data to training and testing dataset. Here, 25% of the dataset is reserved to test our algorithm"
      ]
    },
    {
      "cell_type": "code",
      "metadata": {
        "id": "4Yrc9BPq3arD"
      },
      "source": [
        "X_train,X_test,y_train,y_test=train_test_split(X,Y,test_size=0.25,random_state=42)"
      ],
      "execution_count": 6,
      "outputs": []
    },
    {
      "cell_type": "markdown",
      "metadata": {
        "id": "nkfTUMGA4CS3"
      },
      "source": [
        "## 4) Fit the model"
      ]
    },
    {
      "cell_type": "code",
      "metadata": {
        "id": "XqvACN5X381o"
      },
      "source": [
        "lr = LinearRegression()"
      ],
      "execution_count": 7,
      "outputs": []
    },
    {
      "cell_type": "code",
      "metadata": {
        "colab": {
          "base_uri": "https://localhost:8080/"
        },
        "id": "f1uBCoR24F44",
        "outputId": "ec554a3f-1aef-42d0-8ff9-a25e925496f4"
      },
      "source": [
        "lr.fit(X_train, y_train)"
      ],
      "execution_count": 8,
      "outputs": [
        {
          "output_type": "execute_result",
          "data": {
            "text/plain": [
              "LinearRegression(copy_X=True, fit_intercept=True, n_jobs=None, normalize=False)"
            ]
          },
          "metadata": {
            "tags": []
          },
          "execution_count": 8
        }
      ]
    },
    {
      "cell_type": "markdown",
      "metadata": {
        "id": "f7HXUMrh4MG1"
      },
      "source": [
        "## 5) Accuracy and other measures"
      ]
    },
    {
      "cell_type": "code",
      "metadata": {
        "id": "3t1ef1RC4H_R"
      },
      "source": [
        "temp = lr.predict(X_test)\n",
        "y_pred = []\n",
        "for elm in temp:\n",
        "  if elm < 0.5:\n",
        "    y_pred.append(0)\n",
        "  else:\n",
        "    y_pred.append(1)\n",
        "\n",
        "y_pred = np.asarray(y_pred)"
      ],
      "execution_count": 9,
      "outputs": []
    },
    {
      "cell_type": "code",
      "metadata": {
        "id": "zulje8Hg4SZe"
      },
      "source": [
        "from sklearn.metrics import confusion_matrix\n",
        "mx = confusion_matrix(y_test, y_pred)"
      ],
      "execution_count": 10,
      "outputs": []
    },
    {
      "cell_type": "code",
      "metadata": {
        "colab": {
          "base_uri": "https://localhost:8080/"
        },
        "id": "zyfEaiAv4YTl",
        "outputId": "a9917be6-563d-4be2-abc9-23a96f641a93"
      },
      "source": [
        "print(mx)"
      ],
      "execution_count": 11,
      "outputs": [
        {
          "output_type": "stream",
          "text": [
            "[[96 27]\n",
            " [26 43]]\n"
          ],
          "name": "stdout"
        }
      ]
    },
    {
      "cell_type": "code",
      "metadata": {
        "colab": {
          "base_uri": "https://localhost:8080/"
        },
        "id": "NuUprcJ75HJG",
        "outputId": "80b31e19-0696-4e16-d4b3-b1117658c544"
      },
      "source": [
        "from sklearn.metrics import accuracy_score\n",
        "from sklearn.metrics import precision_score\n",
        "from sklearn.metrics import recall_score\n",
        "print(\"Accuracy:\",accuracy_score(y_test, y_pred))\n",
        "print(\"Precision:\",precision_score(y_test, y_pred))\n",
        "print(\"Recall:\",recall_score(y_test, y_pred))"
      ],
      "execution_count": 12,
      "outputs": [
        {
          "output_type": "stream",
          "text": [
            "Accuracy: 0.7239583333333334\n",
            "Precision: 0.6142857142857143\n",
            "Recall: 0.6231884057971014\n"
          ],
          "name": "stdout"
        }
      ]
    }
  ]
}