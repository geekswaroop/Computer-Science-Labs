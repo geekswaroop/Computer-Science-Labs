{
  "nbformat": 4,
  "nbformat_minor": 0,
  "metadata": {
    "colab": {
      "name": "NiaveBayes-2-181CO125.ipynb",
      "provenance": []
    },
    "kernelspec": {
      "name": "python3",
      "display_name": "Python 3"
    }
  },
  "cells": [
    {
      "cell_type": "markdown",
      "metadata": {
        "id": "Irku-Pn9zgV8"
      },
      "source": [
        "# Lab 4 - Naive Bayes Classifier Titanic Dataset\n",
        "\n",
        "#### Author: Krishna Swaroop\n",
        "#### 181CO125, NITK Surathkal\n"
      ]
    },
    {
      "cell_type": "markdown",
      "metadata": {
        "id": "4J3nymNZznyR"
      },
      "source": [
        "\n",
        "# Introduction"
      ]
    },
    {
      "cell_type": "markdown",
      "metadata": {
        "id": "vckXxlJnzoXA"
      },
      "source": [
        "Naive Bayes methods are a set of supervised learning algorithms based on applying Bayes’ theorem with the “naive” assumption of conditional independence between every pair of features given the value of the class variable."
      ]
    },
    {
      "cell_type": "markdown",
      "metadata": {
        "id": "aai3klpvzwWF"
      },
      "source": [
        "# Dataset"
      ]
    },
    {
      "cell_type": "markdown",
      "metadata": {
        "id": "kMoIVXByzzCy"
      },
      "source": [
        "We are using the [Titanic Disaster Dataset](https://www.kaggle.com/c/titanic/data?select=train.csv). It gathers personal information about the passengers onboard the Titanic Ship which met a iceberg crash in the ocean in 1912. \\\n",
        "\n",
        "\n",
        "Our target is to predict whether or not a person will survive with the given features\n",
        "\n",
        "Features: \n",
        ">Variable\t| Definition\t| Key\n",
        ">---|---|---\n",
        ">survival\t|Survival\t|0 = No, 1 = Yes\n",
        ">pclass\t|Ticket class\t|1 = 1st, 2 = 2nd, 3 = 3rd\n",
        ">sex\t|Sex|\t\n",
        ">Age\t|Age in years|\t\n",
        ">sibsp\t|# of siblings / spouses aboard the Titanic\t|\n",
        ">parch\t|# of parents / children aboard the Titanic\t|\n",
        ">ticket\t|Ticket number|\n",
        ">fare\t|Passenger fare\t|\n",
        ">cabin\t|Cabin number\t|\n",
        ">embarked\t|Port of Embarkation\t|C = Cherbourg, Q = Queenstown, S = Southampton>"
      ]
    },
    {
      "cell_type": "markdown",
      "metadata": {
        "id": "vzA2S3Wm1ggA"
      },
      "source": [
        "Survival is numbered as 1/0 respectively and is our target variable"
      ]
    },
    {
      "cell_type": "markdown",
      "metadata": {
        "id": "ROa4eSfv1kqZ"
      },
      "source": [
        "# Naive Bayes Classifier"
      ]
    },
    {
      "cell_type": "markdown",
      "metadata": {
        "id": "OGC5RoAH1mz0"
      },
      "source": [
        "## 1) Import Libraries"
      ]
    },
    {
      "cell_type": "code",
      "metadata": {
        "id": "RNqFMslKv84h"
      },
      "source": [
        "import pandas as pd\n",
        "import numpy as np\n",
        "import matplotlib.pyplot as plt\n",
        "import time\n",
        "from sklearn.model_selection import train_test_split\n",
        "from sklearn.naive_bayes import GaussianNB, BernoulliNB, MultinomialNB"
      ],
      "execution_count": null,
      "outputs": []
    },
    {
      "cell_type": "markdown",
      "metadata": {
        "id": "ZtWsXyBf1pJV"
      },
      "source": [
        "## 2) Load data"
      ]
    },
    {
      "cell_type": "code",
      "metadata": {
        "id": "wDpLP13xwize"
      },
      "source": [
        "data = pd.read_csv(\"/content/train.csv\")\n"
      ],
      "execution_count": null,
      "outputs": []
    },
    {
      "cell_type": "markdown",
      "metadata": {
        "id": "b7fP0bL01shi"
      },
      "source": [
        "Print head of dataset"
      ]
    },
    {
      "cell_type": "code",
      "metadata": {
        "colab": {
          "base_uri": "https://localhost:8080/"
        },
        "id": "aNtCtvff1wKd",
        "outputId": "122177ef-0466-4916-ea75-dafe8531acac"
      },
      "source": [
        "print(data.info())"
      ],
      "execution_count": null,
      "outputs": [
        {
          "output_type": "stream",
          "text": [
            "<class 'pandas.core.frame.DataFrame'>\n",
            "Int64Index: 714 entries, 0 to 890\n",
            "Data columns (total 8 columns):\n",
            " #   Column            Non-Null Count  Dtype  \n",
            "---  ------            --------------  -----  \n",
            " 0   Survived          714 non-null    int64  \n",
            " 1   Pclass            714 non-null    int64  \n",
            " 2   Sex_cleaned       714 non-null    int64  \n",
            " 3   Age               714 non-null    float64\n",
            " 4   SibSp             714 non-null    int64  \n",
            " 5   Parch             714 non-null    int64  \n",
            " 6   Fare              714 non-null    float64\n",
            " 7   Embarked_cleaned  714 non-null    int64  \n",
            "dtypes: float64(2), int64(6)\n",
            "memory usage: 50.2 KB\n",
            "None\n"
          ],
          "name": "stdout"
        }
      ]
    },
    {
      "cell_type": "markdown",
      "metadata": {
        "id": "wyWCYn7B2E2x"
      },
      "source": [
        "## 3) Clean data\n",
        "\n",
        "Here, Male is replaced by 0 and female is replaced by 1"
      ]
    },
    {
      "cell_type": "code",
      "metadata": {
        "id": "BnNrZM_5wl4l"
      },
      "source": [
        "# Convert categorical variable to numeric\n",
        "data[\"Sex_cleaned\"]=np.where(data[\"Sex\"]==\"male\",0,1)\n",
        "data[\"Embarked_cleaned\"]=np.where(data[\"Embarked\"]==\"S\",0, np.where(data[\"Embarked\"]==\"C\",1,np.where(data[\"Embarked\"]==\"Q\",2,3)))"
      ],
      "execution_count": null,
      "outputs": []
    },
    {
      "cell_type": "markdown",
      "metadata": {
        "id": "qXzMZPVD2Nr7"
      },
      "source": [
        "Print cleaned data values"
      ]
    },
    {
      "cell_type": "code",
      "metadata": {
        "colab": {
          "base_uri": "https://localhost:8080/"
        },
        "id": "h2Alwf3Q18hG",
        "outputId": "f98e772d-562a-4765-8f17-4233445269b9"
      },
      "source": [
        "print(data.head())"
      ],
      "execution_count": null,
      "outputs": [
        {
          "output_type": "stream",
          "text": [
            "   PassengerId  Survived  Pclass  ... Embarked Sex_cleaned  Embarked_cleaned\n",
            "0            1         0       3  ...        S           0                 0\n",
            "1            2         1       1  ...        C           1                 1\n",
            "2            3         1       3  ...        S           1                 0\n",
            "3            4         1       1  ...        S           1                 0\n",
            "4            5         0       3  ...        S           0                 0\n",
            "\n",
            "[5 rows x 14 columns]\n"
          ],
          "name": "stdout"
        }
      ]
    },
    {
      "cell_type": "markdown",
      "metadata": {
        "id": "Gq9cc5xy2Rim"
      },
      "source": [
        "Select features"
      ]
    },
    {
      "cell_type": "code",
      "metadata": {
        "id": "-oGnoFEzwvQX"
      },
      "source": [
        "data=data[[\n",
        "    \"Survived\",\n",
        "    \"Pclass\",\n",
        "    \"Sex_cleaned\",\n",
        "    \"Age\",\n",
        "    \"SibSp\",\n",
        "    \"Parch\",\n",
        "    \"Fare\",\n",
        "    \"Embarked_cleaned\"\n",
        "]].dropna(axis=0, how='any')\n"
      ],
      "execution_count": null,
      "outputs": []
    },
    {
      "cell_type": "markdown",
      "metadata": {
        "id": "Sj5OQgI62Wo_"
      },
      "source": [
        "## 4) Split data"
      ]
    },
    {
      "cell_type": "markdown",
      "metadata": {
        "id": "jOix_yij2ZX1"
      },
      "source": [
        "Use ```train_test_split()``` to split the data to training and testing dataset. Here, 20% of the dataset is reserved to test our algorithm"
      ]
    },
    {
      "cell_type": "code",
      "metadata": {
        "id": "b-TaPmzdw-LL"
      },
      "source": [
        "X_train, X_test = train_test_split(data, test_size=0.2, random_state=10)\n"
      ],
      "execution_count": null,
      "outputs": []
    },
    {
      "cell_type": "markdown",
      "metadata": {
        "id": "JTNhV8H_2krL"
      },
      "source": [
        "## 5) Fit model"
      ]
    },
    {
      "cell_type": "code",
      "metadata": {
        "id": "04L0PkNTw_u1"
      },
      "source": [
        "gnb = GaussianNB()\n"
      ],
      "execution_count": null,
      "outputs": []
    },
    {
      "cell_type": "code",
      "metadata": {
        "colab": {
          "base_uri": "https://localhost:8080/"
        },
        "id": "yF4IBZ3Q2qp3",
        "outputId": "b2b62321-f728-43c2-f2fe-7ee4ea218832"
      },
      "source": [
        "used_features =[\n",
        "    \"Pclass\",\n",
        "    \"Sex_cleaned\",\n",
        "    \"Age\",\n",
        "    \"SibSp\",\n",
        "    \"Parch\",\n",
        "    \"Fare\",\n",
        "    \"Embarked_cleaned\"\n",
        "]\n",
        "\n",
        "# Train classifier\n",
        "gnb.fit(X_train[used_features].values,X_train[\"Survived\"])"
      ],
      "execution_count": null,
      "outputs": [
        {
          "output_type": "execute_result",
          "data": {
            "text/plain": [
              "GaussianNB(priors=None, var_smoothing=1e-09)"
            ]
          },
          "metadata": {
            "tags": []
          },
          "execution_count": 21
        }
      ]
    },
    {
      "cell_type": "markdown",
      "metadata": {
        "id": "4rVUZ-fA2xN1"
      },
      "source": [
        "## 6) Predict"
      ]
    },
    {
      "cell_type": "code",
      "metadata": {
        "colab": {
          "base_uri": "https://localhost:8080/"
        },
        "id": "tUVYVEuHxC9c",
        "outputId": "20903c7b-2ba1-4fcd-c234-d4919e8da14f"
      },
      "source": [
        "y_pred = gnb.predict(X_test[used_features])\n",
        "\n",
        "# Print results\n",
        "print(\"Number of mislabeled points out of a total {} points : {}, performance {:05.2f}%\"\n",
        "      .format(\n",
        "          X_test.shape[0],\n",
        "          (X_test[\"Survived\"] != y_pred).sum(),\n",
        "          100*(1-(X_test[\"Survived\"] != y_pred).sum()/X_test.shape[0])\n",
        "))"
      ],
      "execution_count": null,
      "outputs": [
        {
          "output_type": "stream",
          "text": [
            "Number of mislabeled points out of a total 143 points : 31, performance 78.32%\n"
          ],
          "name": "stdout"
        }
      ]
    },
    {
      "cell_type": "markdown",
      "metadata": {
        "id": "NG6N4yqt21xU"
      },
      "source": [
        "## 7) Analysis"
      ]
    },
    {
      "cell_type": "markdown",
      "metadata": {
        "id": "9-vdkQEe24aS"
      },
      "source": [
        "We get a performance of 78.32% on the test set containing 143 points. Hence there are a total of 31 mislabelled points in our test dataset"
      ]
    },
    {
      "cell_type": "code",
      "metadata": {
        "id": "20btAfa22zm8"
      },
      "source": [
        ""
      ],
      "execution_count": null,
      "outputs": []
    }
  ]
}